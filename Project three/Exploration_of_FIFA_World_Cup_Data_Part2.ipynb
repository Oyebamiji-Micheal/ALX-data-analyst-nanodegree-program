{
 "cells": [
  {
   "cell_type": "markdown",
   "id": "120f8868",
   "metadata": {
    "slideshow": {
     "slide_type": "slide"
    }
   },
   "source": [
    "# Exploration of FIFA World Cup Data"
   ]
  },
  {
   "cell_type": "markdown",
   "id": "0720605b",
   "metadata": {
    "slideshow": {
     "slide_type": "slide"
    }
   },
   "source": [
    "## Investigation Overview\n",
    "\n",
    "For the presentation, I focused on three things: countries, continents and attendance. \n",
    "I started by introducing countries with highest appearance, then a set of plots which shows relationship between countries and continents. \n",
    "Lastly, I introduced plots with 'attendance' as area of focus\n",
    "\n",
    "## Dataset Overview\n",
    "\n",
    "\n",
    "The datasets. This project features three datasets:  \n",
    "The first dataset contains basic match information such as home team name, stadium, city, referee name and so on. \n",
    "The second dataset contains player information such as player name, shirt number, position etc. \n",
    "The last dataset contains information about the tournament such as the winners, runner-ups, qualified team, goals scored etc.\n",
    "\n",
    "<font color='red'>**Note: Data for 1950 and 2018 world cup are missing. Gathering the dataset would require significant amount of time. However, though not an excuse, since this project is primarily focused on data visualization, this data is not gathered. In this vein, all questions answered is not and should not be considered 'accurate' as they might be off by few units.**</font>"
   ]
  },
  {
   "cell_type": "code",
   "execution_count": 2,
   "id": "f13f1e10",
   "metadata": {
    "slideshow": {
     "slide_type": "skip"
    }
   },
   "outputs": [],
   "source": [
    "# import all necessary packages \n",
    "import numpy as np\n",
    "import pandas as pd \n",
    "import matplotlib.pyplot as plt\n",
    "import seaborn as sns\n",
    "%matplotlib inline\n",
    "import opendatasets as od;"
   ]
  },
  {
   "cell_type": "markdown",
   "id": "de740c4a",
   "metadata": {
    "slideshow": {
     "slide_type": "skip"
    }
   },
   "source": [
    "<a id='download'></a>"
   ]
  },
  {
   "cell_type": "markdown",
   "id": "f3a58c9a",
   "metadata": {
    "slideshow": {
     "slide_type": "skip"
    }
   },
   "source": [
    "##  2. Downloading the Datasets\n",
    "The datasets can be easily downloaded using the opendatasets library. "
   ]
  },
  {
   "cell_type": "code",
   "execution_count": null,
   "id": "96b4a0e5",
   "metadata": {
    "slideshow": {
     "slide_type": "skip"
    }
   },
   "outputs": [],
   "source": [
    "# download datasets programmatically  \n",
    "url = \"https://www.kaggle.com/datasets/abecklas/fifa-world-cup/download\"\n",
    "od.download(url, force=False)"
   ]
  },
  {
   "cell_type": "markdown",
   "id": "3a751c1b",
   "metadata": {
    "heading_collapsed": true,
    "slideshow": {
     "slide_type": "skip"
    }
   },
   "source": [
    "## 3. Preliminary Wrangling\n",
    "**Note:   \n",
    "Semicolons are added to suppress large output of some cells   \n",
    "Remove semicolon to show output**"
   ]
  },
  {
   "cell_type": "markdown",
   "id": "4f70af6d",
   "metadata": {
    "heading_collapsed": true,
    "hidden": true,
    "slideshow": {
     "slide_type": "skip"
    }
   },
   "source": [
    "### 3.1 Gather"
   ]
  },
  {
   "cell_type": "code",
   "execution_count": 3,
   "id": "defb763b",
   "metadata": {
    "hidden": true,
    "slideshow": {
     "slide_type": "skip"
    }
   },
   "outputs": [],
   "source": [
    "# load the three datasets into the pandas dataframe\n",
    "matches_df = pd.read_csv('./fifa-world-cup/WorldCupMatches.csv')\n",
    "players_df = pd.read_csv('./fifa-world-cup/WorldCupPlayers.csv')\n",
    "world_df = pd.read_csv('./fifa-world-cup/WorldCups.csv')"
   ]
  },
  {
   "cell_type": "markdown",
   "id": "afc3406b",
   "metadata": {
    "heading_collapsed": true,
    "hidden": true,
    "slideshow": {
     "slide_type": "skip"
    }
   },
   "source": [
    "### 3.2 Assess\n",
    "Here, I accessed the quality and tidiness of the datasets by checking for erroneous datatypes, duplicates, missing value and so on. Also, this would get me acquainted with the structure of the data. "
   ]
  },
  {
   "cell_type": "markdown",
   "id": "3bf4b0f2",
   "metadata": {
    "hidden": true,
    "slideshow": {
     "slide_type": "skip"
    }
   },
   "source": [
    "#### ***matches_df***"
   ]
  },
  {
   "cell_type": "code",
   "execution_count": 4,
   "id": "5e48b206",
   "metadata": {
    "hidden": true,
    "scrolled": false,
    "slideshow": {
     "slide_type": "skip"
    }
   },
   "outputs": [],
   "source": [
    "matches_df.head();"
   ]
  },
  {
   "cell_type": "code",
   "execution_count": 5,
   "id": "faf90574",
   "metadata": {
    "hidden": true,
    "slideshow": {
     "slide_type": "skip"
    }
   },
   "outputs": [
    {
     "name": "stdout",
     "output_type": "stream",
     "text": [
      "<class 'pandas.core.frame.DataFrame'>\n",
      "RangeIndex: 4572 entries, 0 to 4571\n",
      "Data columns (total 20 columns):\n",
      " #   Column                Non-Null Count  Dtype  \n",
      "---  ------                --------------  -----  \n",
      " 0   Year                  852 non-null    float64\n",
      " 1   Datetime              852 non-null    object \n",
      " 2   Stage                 852 non-null    object \n",
      " 3   Stadium               852 non-null    object \n",
      " 4   City                  852 non-null    object \n",
      " 5   Home Team Name        852 non-null    object \n",
      " 6   Home Team Goals       852 non-null    float64\n",
      " 7   Away Team Goals       852 non-null    float64\n",
      " 8   Away Team Name        852 non-null    object \n",
      " 9   Win conditions        852 non-null    object \n",
      " 10  Attendance            850 non-null    float64\n",
      " 11  Half-time Home Goals  852 non-null    float64\n",
      " 12  Half-time Away Goals  852 non-null    float64\n",
      " 13  Referee               852 non-null    object \n",
      " 14  Assistant 1           852 non-null    object \n",
      " 15  Assistant 2           852 non-null    object \n",
      " 16  RoundID               852 non-null    float64\n",
      " 17  MatchID               852 non-null    float64\n",
      " 18  Home Team Initials    852 non-null    object \n",
      " 19  Away Team Initials    852 non-null    object \n",
      "dtypes: float64(8), object(12)\n",
      "memory usage: 714.5+ KB\n"
     ]
    }
   ],
   "source": [
    "matches_df.info()"
   ]
  },
  {
   "cell_type": "code",
   "execution_count": 6,
   "id": "0251d849",
   "metadata": {
    "hidden": true,
    "scrolled": true,
    "slideshow": {
     "slide_type": "skip"
    }
   },
   "outputs": [
    {
     "data": {
      "text/plain": [
       "3735"
      ]
     },
     "execution_count": 6,
     "metadata": {},
     "output_type": "execute_result"
    }
   ],
   "source": [
    "sum(matches_df.duplicated())"
   ]
  },
  {
   "cell_type": "code",
   "execution_count": 7,
   "id": "8f41445d",
   "metadata": {
    "hidden": true,
    "slideshow": {
     "slide_type": "skip"
    }
   },
   "outputs": [],
   "source": [
    "matches_df[matches_df['Year'].isnull()];"
   ]
  },
  {
   "cell_type": "code",
   "execution_count": 8,
   "id": "79e0deda",
   "metadata": {
    "hidden": true,
    "scrolled": true,
    "slideshow": {
     "slide_type": "skip"
    }
   },
   "outputs": [],
   "source": [
    "matches_df.iloc[[850, 851]];"
   ]
  },
  {
   "cell_type": "markdown",
   "id": "53ef5a20",
   "metadata": {
    "hidden": true,
    "slideshow": {
     "slide_type": "skip"
    }
   },
   "source": [
    "**It seems the data entry stopped at row 851. Hence, all subsequent rows are irrelevant.**"
   ]
  },
  {
   "cell_type": "code",
   "execution_count": 9,
   "id": "68f49215",
   "metadata": {
    "hidden": true,
    "scrolled": true,
    "slideshow": {
     "slide_type": "skip"
    }
   },
   "outputs": [],
   "source": [
    "matches_df.Stage.unique();"
   ]
  },
  {
   "cell_type": "code",
   "execution_count": 10,
   "id": "9f3c5163",
   "metadata": {
    "hidden": true,
    "slideshow": {
     "slide_type": "skip"
    }
   },
   "outputs": [],
   "source": [
    "matches_df['Home Team Name'].unique();"
   ]
  },
  {
   "cell_type": "code",
   "execution_count": 11,
   "id": "ac74a492",
   "metadata": {
    "hidden": true,
    "slideshow": {
     "slide_type": "skip"
    }
   },
   "outputs": [],
   "source": [
    "matches_df['Away Team Name'].unique();"
   ]
  },
  {
   "cell_type": "markdown",
   "id": "8a21e754",
   "metadata": {
    "hidden": true,
    "slideshow": {
     "slide_type": "skip"
    }
   },
   "source": [
    "#### ***players_df***"
   ]
  },
  {
   "cell_type": "code",
   "execution_count": 12,
   "id": "ff3e65b1",
   "metadata": {
    "hidden": true,
    "slideshow": {
     "slide_type": "skip"
    }
   },
   "outputs": [],
   "source": [
    "players_df.head();"
   ]
  },
  {
   "cell_type": "code",
   "execution_count": 13,
   "id": "d1900387",
   "metadata": {
    "hidden": true,
    "scrolled": false,
    "slideshow": {
     "slide_type": "skip"
    }
   },
   "outputs": [
    {
     "name": "stdout",
     "output_type": "stream",
     "text": [
      "<class 'pandas.core.frame.DataFrame'>\n",
      "RangeIndex: 37784 entries, 0 to 37783\n",
      "Data columns (total 9 columns):\n",
      " #   Column         Non-Null Count  Dtype \n",
      "---  ------         --------------  ----- \n",
      " 0   RoundID        37784 non-null  int64 \n",
      " 1   MatchID        37784 non-null  int64 \n",
      " 2   Team Initials  37784 non-null  object\n",
      " 3   Coach Name     37784 non-null  object\n",
      " 4   Line-up        37784 non-null  object\n",
      " 5   Shirt Number   37784 non-null  int64 \n",
      " 6   Player Name    37784 non-null  object\n",
      " 7   Position       4143 non-null   object\n",
      " 8   Event          9069 non-null   object\n",
      "dtypes: int64(3), object(6)\n",
      "memory usage: 2.6+ MB\n"
     ]
    }
   ],
   "source": [
    "players_df.info()"
   ]
  },
  {
   "cell_type": "code",
   "execution_count": 14,
   "id": "79934e45",
   "metadata": {
    "hidden": true,
    "slideshow": {
     "slide_type": "skip"
    }
   },
   "outputs": [
    {
     "data": {
      "text/plain": [
       "736"
      ]
     },
     "execution_count": 14,
     "metadata": {},
     "output_type": "execute_result"
    }
   ],
   "source": [
    "sum(players_df.duplicated())"
   ]
  },
  {
   "cell_type": "markdown",
   "id": "db1bffc7",
   "metadata": {
    "hidden": true,
    "slideshow": {
     "slide_type": "skip"
    }
   },
   "source": [
    "#### ***world_df***"
   ]
  },
  {
   "cell_type": "code",
   "execution_count": 15,
   "id": "280340c4",
   "metadata": {
    "hidden": true,
    "scrolled": true,
    "slideshow": {
     "slide_type": "skip"
    }
   },
   "outputs": [],
   "source": [
    "world_df.head();"
   ]
  },
  {
   "cell_type": "code",
   "execution_count": 16,
   "id": "67c5f585",
   "metadata": {
    "hidden": true,
    "slideshow": {
     "slide_type": "skip"
    }
   },
   "outputs": [
    {
     "name": "stdout",
     "output_type": "stream",
     "text": [
      "<class 'pandas.core.frame.DataFrame'>\n",
      "RangeIndex: 20 entries, 0 to 19\n",
      "Data columns (total 10 columns):\n",
      " #   Column          Non-Null Count  Dtype \n",
      "---  ------          --------------  ----- \n",
      " 0   Year            20 non-null     int64 \n",
      " 1   Country         20 non-null     object\n",
      " 2   Winner          20 non-null     object\n",
      " 3   Runners-Up      20 non-null     object\n",
      " 4   Third           20 non-null     object\n",
      " 5   Fourth          20 non-null     object\n",
      " 6   GoalsScored     20 non-null     int64 \n",
      " 7   QualifiedTeams  20 non-null     int64 \n",
      " 8   MatchesPlayed   20 non-null     int64 \n",
      " 9   Attendance      20 non-null     object\n",
      "dtypes: int64(4), object(6)\n",
      "memory usage: 1.7+ KB\n"
     ]
    }
   ],
   "source": [
    "world_df.info()"
   ]
  },
  {
   "cell_type": "code",
   "execution_count": 17,
   "id": "a9672760",
   "metadata": {
    "hidden": true,
    "scrolled": true,
    "slideshow": {
     "slide_type": "skip"
    }
   },
   "outputs": [],
   "source": [
    "world_df['Country'].unique();"
   ]
  },
  {
   "cell_type": "code",
   "execution_count": 18,
   "id": "fbf91620",
   "metadata": {
    "hidden": true,
    "slideshow": {
     "slide_type": "skip"
    }
   },
   "outputs": [],
   "source": [
    "world_df['Winner'].unique();"
   ]
  },
  {
   "cell_type": "code",
   "execution_count": 19,
   "id": "0a32d68f",
   "metadata": {
    "hidden": true,
    "slideshow": {
     "slide_type": "skip"
    }
   },
   "outputs": [],
   "source": [
    "world_df['Runners-Up'].unique();"
   ]
  },
  {
   "cell_type": "code",
   "execution_count": 20,
   "id": "52d94b8c",
   "metadata": {
    "hidden": true,
    "slideshow": {
     "slide_type": "skip"
    }
   },
   "outputs": [],
   "source": [
    "world_df['Third'].unique();"
   ]
  },
  {
   "cell_type": "code",
   "execution_count": 21,
   "id": "79305ac9",
   "metadata": {
    "hidden": true,
    "slideshow": {
     "slide_type": "skip"
    }
   },
   "outputs": [],
   "source": [
    "world_df['Fourth'].unique();"
   ]
  },
  {
   "cell_type": "markdown",
   "id": "3dfb1e4c",
   "metadata": {
    "hidden": true,
    "slideshow": {
     "slide_type": "skip"
    }
   },
   "source": [
    "Upon assessing our data programmatically and visually, the following issues are addressed in the subsequent code cells."
   ]
  },
  {
   "cell_type": "markdown",
   "id": "a00ba189",
   "metadata": {
    "hidden": true,
    "slideshow": {
     "slide_type": "skip"
    }
   },
   "source": [
    "**```matches_df``` table**\n",
    "- rows with NaN\n",
    "- some rows are duplicated\n",
    "- some column datatype should be 'int' not 'float'\n",
    "- Inconsistent values in 'Stage' column\n",
    "- Erroneous country name\n",
    "\n",
    "**```players_df``` table**\n",
    "- duplicated rows \n",
    "\n",
    "**```world_df``` table**\n",
    "- 'attendance' datatype "
   ]
  },
  {
   "cell_type": "markdown",
   "id": "e9b7d7fb",
   "metadata": {
    "hidden": true,
    "slideshow": {
     "slide_type": "skip"
    }
   },
   "source": [
    "<a id='motivate'></a>"
   ]
  },
  {
   "cell_type": "markdown",
   "id": "c15f7fac",
   "metadata": {
    "hidden": true,
    "slideshow": {
     "slide_type": "skip"
    }
   },
   "source": [
    "### 3.2 Clean"
   ]
  },
  {
   "cell_type": "code",
   "execution_count": 22,
   "id": "4d127f7c",
   "metadata": {
    "hidden": true,
    "slideshow": {
     "slide_type": "skip"
    }
   },
   "outputs": [],
   "source": [
    "matches_clean_df = matches_df.copy()\n",
    "world_clean_df = world_df.copy()"
   ]
  },
  {
   "cell_type": "markdown",
   "id": "766531cd",
   "metadata": {
    "hidden": true,
    "slideshow": {
     "slide_type": "skip"
    }
   },
   "source": [
    "#### matches_df table"
   ]
  },
  {
   "cell_type": "markdown",
   "id": "f629b781",
   "metadata": {
    "hidden": true,
    "slideshow": {
     "slide_type": "skip"
    }
   },
   "source": [
    "##### rows with missing value"
   ]
  },
  {
   "cell_type": "code",
   "execution_count": 23,
   "id": "dedac84d",
   "metadata": {
    "hidden": true,
    "slideshow": {
     "slide_type": "skip"
    }
   },
   "outputs": [],
   "source": [
    "# drop rows with NaN\n",
    "matches_clean_df.dropna(inplace=True)"
   ]
  },
  {
   "cell_type": "markdown",
   "id": "2398d06d",
   "metadata": {
    "hidden": true,
    "slideshow": {
     "slide_type": "skip"
    }
   },
   "source": [
    "##### duplicated data"
   ]
  },
  {
   "cell_type": "code",
   "execution_count": 24,
   "id": "9f50ba4b",
   "metadata": {
    "hidden": true,
    "slideshow": {
     "slide_type": "skip"
    }
   },
   "outputs": [],
   "source": [
    "# drop duplicates\n",
    "matches_clean_df.drop_duplicates(inplace=True)"
   ]
  },
  {
   "cell_type": "markdown",
   "id": "38069acc",
   "metadata": {
    "hidden": true,
    "slideshow": {
     "slide_type": "skip"
    }
   },
   "source": [
    "##### erroneous datatype"
   ]
  },
  {
   "cell_type": "code",
   "execution_count": 25,
   "id": "6d1740aa",
   "metadata": {
    "hidden": true,
    "slideshow": {
     "slide_type": "skip"
    }
   },
   "outputs": [],
   "source": [
    "# change float datatypes to int\n",
    "for column in matches_clean_df.columns:\n",
    "    if matches_clean_df[column].dtype == float:\n",
    "        matches_clean_df[column] = matches_clean_df[column].astype(int)"
   ]
  },
  {
   "cell_type": "code",
   "execution_count": 26,
   "id": "bd522689",
   "metadata": {
    "hidden": true,
    "slideshow": {
     "slide_type": "skip"
    }
   },
   "outputs": [],
   "source": [
    "# change 'Datetime' datatype \n",
    "matches_clean_df.Datetime = pd.to_datetime(matches_clean_df.Datetime)"
   ]
  },
  {
   "cell_type": "code",
   "execution_count": 27,
   "id": "80d8bfe6",
   "metadata": {
    "hidden": true,
    "slideshow": {
     "slide_type": "skip"
    }
   },
   "outputs": [],
   "source": [
    "# extract month from 'Datatime' column\n",
    "months = {0: 'Jan', 2:'Feb', 3:'Mar', 4:'April', 5:'May', 6:'Jun', \n",
    "           7:'Jul', 8:'Aug', 9:'Sep', 10:'Oct', 11:'Nov', 12:'Dec'}\n",
    "matches_clean_df['Month'] = matches_clean_df['Datetime'].dt.month.map(months)"
   ]
  },
  {
   "cell_type": "markdown",
   "id": "2c253fcd",
   "metadata": {
    "hidden": true,
    "slideshow": {
     "slide_type": "skip"
    }
   },
   "source": [
    "##### Replace and add new columns\n",
    "There are inconsistent values in 'Stage' column. For example, 'Group 1', 'Group 2', ... correspond to 'Group A', 'Group B', ... respectively. Also, 'Play-off for third place' and 'Match for third place' mean the same thing."
   ]
  },
  {
   "cell_type": "code",
   "execution_count": 28,
   "id": "67ea5c1c",
   "metadata": {
    "hidden": true,
    "slideshow": {
     "slide_type": "skip"
    }
   },
   "outputs": [],
   "source": [
    "# replace inconsistent values\n",
    "old_groups = ['Group 1', 'Group 2', 'Group 3', 'Group 4', 'Group 5', 'Group 6']\n",
    "new_groups = ['Group A', 'Group B', 'Group C', 'Group D', 'Group E', 'Group F'] \n",
    "old_place = ['Match for third place', 'Play-off for third place']\n",
    "new_place = 'Third place'\n",
    "matches_clean_df['Stage'].replace(old_groups, new_groups, inplace=True)\n",
    "matches_clean_df['Stage'].replace(old_place, new_place, inplace=True)"
   ]
  },
  {
   "cell_type": "markdown",
   "id": "63e4c42a",
   "metadata": {
    "hidden": true,
    "slideshow": {
     "slide_type": "skip"
    }
   },
   "source": [
    "Part of this notebook requires analysis based on continents. To archive this, I added add new columns which contains the corresponding continent of each country. The data used is gotten from a Github repository. Also, this file is available in this project repository."
   ]
  },
  {
   "cell_type": "code",
   "execution_count": 29,
   "id": "43ef0e78",
   "metadata": {
    "hidden": true,
    "slideshow": {
     "slide_type": "skip"
    }
   },
   "outputs": [],
   "source": [
    "continents = pd.read_csv('https://raw.githubusercontent.com/dbouquin/IS_608/master/NanosatDB_munging/Countries-Continents.csv')"
   ]
  },
  {
   "cell_type": "code",
   "execution_count": 30,
   "id": "06184f21",
   "metadata": {
    "hidden": true,
    "scrolled": false,
    "slideshow": {
     "slide_type": "skip"
    }
   },
   "outputs": [
    {
     "data": {
      "text/html": [
       "<div>\n",
       "<style scoped>\n",
       "    .dataframe tbody tr th:only-of-type {\n",
       "        vertical-align: middle;\n",
       "    }\n",
       "\n",
       "    .dataframe tbody tr th {\n",
       "        vertical-align: top;\n",
       "    }\n",
       "\n",
       "    .dataframe thead th {\n",
       "        text-align: right;\n",
       "    }\n",
       "</style>\n",
       "<table border=\"1\" class=\"dataframe\">\n",
       "  <thead>\n",
       "    <tr style=\"text-align: right;\">\n",
       "      <th></th>\n",
       "      <th>Continent</th>\n",
       "      <th>Country</th>\n",
       "    </tr>\n",
       "  </thead>\n",
       "  <tbody>\n",
       "    <tr>\n",
       "      <th>0</th>\n",
       "      <td>Africa</td>\n",
       "      <td>Algeria</td>\n",
       "    </tr>\n",
       "    <tr>\n",
       "      <th>1</th>\n",
       "      <td>Africa</td>\n",
       "      <td>Angola</td>\n",
       "    </tr>\n",
       "    <tr>\n",
       "      <th>2</th>\n",
       "      <td>Africa</td>\n",
       "      <td>Benin</td>\n",
       "    </tr>\n",
       "  </tbody>\n",
       "</table>\n",
       "</div>"
      ],
      "text/plain": [
       "  Continent  Country\n",
       "0    Africa  Algeria\n",
       "1    Africa   Angola\n",
       "2    Africa    Benin"
      ]
     },
     "execution_count": 30,
     "metadata": {},
     "output_type": "execute_result"
    }
   ],
   "source": [
    "continents.head(3)"
   ]
  },
  {
   "cell_type": "markdown",
   "id": "5b4b2793",
   "metadata": {
    "hidden": true,
    "slideshow": {
     "slide_type": "skip"
    }
   },
   "source": [
    "**Note: Country names that start with 'rn' denote the current country name at the time of the tournament**"
   ]
  },
  {
   "cell_type": "code",
   "execution_count": 31,
   "id": "7f2784e5",
   "metadata": {
    "hidden": true,
    "slideshow": {
     "slide_type": "skip"
    }
   },
   "outputs": [],
   "source": [
    "old_name = ['rn\">United Arab Emirates', 'rn\">Republic of Ireland', \n",
    "            'rn\">Trinidad and Tobago', 'rn\">Serbia and Montenegro',\n",
    "            \"C�te d'Ivoire\", 'rn\">Bosnia and Herzegovina',\n",
    "           ]\n",
    "\n",
    "new_name = ['United Arab Emirates', 'Republic of Ireland', \n",
    "            'Trinidad and Tobago', 'Serbia and Montenegro',\n",
    "            \"Cote d'Ivoire\", 'Bosnia and Herzegovina',\n",
    "           ]\n",
    "    \n",
    "matches_clean_df[['Home Team Name', 'Away Team Name']] = (\n",
    "    matches_clean_df[['Home Team Name', 'Away Team Name']].replace(old_name, new_name)\n",
    ")"
   ]
  },
  {
   "cell_type": "markdown",
   "id": "4d8700b0",
   "metadata": {
    "hidden": true,
    "slideshow": {
     "slide_type": "skip"
    }
   },
   "source": [
    "Before I merge both dataframes however, I first checked for countries with missing continents in the 'continent file'. These countries, if any exist, are added manually."
   ]
  },
  {
   "cell_type": "code",
   "execution_count": 32,
   "id": "4d68371a",
   "metadata": {
    "hidden": true,
    "slideshow": {
     "slide_type": "skip"
    }
   },
   "outputs": [],
   "source": [
    "home_countries = matches_clean_df['Home Team Name']\n",
    "away_countries = matches_clean_df['Away Team Name']\n",
    "\n",
    "missing_home = home_countries[~home_countries.isin(continents.Country)].unique()\n",
    "missing_away = away_countries[~away_countries.isin(continents.Country)].unique()\n",
    "\n",
    "missing_home;\n",
    "missing_away;\n",
    "\n",
    "additional_continents = {'England': 'Europe', 'Wales': 'Europe', 'Scotland': 'Europe', \n",
    "                         'Republic of Ireland': 'Europe', 'Northern Ireland': 'Europe',\n",
    "                         'USA': 'North America', 'Congo DR': 'Africa', \n",
    "                         \"Cote d'Ivoire\": 'Africa', 'Korea DPR': 'Asia',\n",
    "                         'Dutch East Indies': 'Asia', 'Korea Republic': 'Asia',\n",
    "                         'Germany FR': 'Europe', 'Soviet Union': 'Asia', \n",
    "                         'German DR': 'Europe', 'Zaire': 'Africa', 'Russia': 'Asia', \n",
    "                         'China PR': 'Asia', 'Czech Republic': 'Europe',\n",
    "                         'Serbia and Montenegro': 'Europe', 'IR Iran': 'Asia',\n",
    "                         'Yugoslavia': 'Europe', 'Czechoslovakia': 'Europe'\n",
    "                        }\n",
    "\n",
    "# convert additional_contents to dataframe\n",
    "additional_continents_df = pd.DataFrame(additional_continents.items(), columns=['Country', 'Continent'])\n",
    "additional_continents_df\n",
    "\n",
    "# append 'additional_continents_df' to 'continents'\n",
    "continent = continents.append(additional_continents_df)\n",
    "continent\n",
    "\n",
    "# create two new columns corresponding to the continents of Home and Away countries\n",
    "matches_clean_df = pd.merge(continent, matches_clean_df, right_on='Home Team Name', left_on='Country')\n",
    "matches_clean_df = pd.merge(continent, matches_clean_df, right_on='Away Team Name', left_on='Country')\n",
    "matches_clean_df\n",
    "\n",
    "# rename and drop columns\n",
    "matches_clean_df.rename(columns={'Continent_x': 'Away Team Continent', 'Continent_y': 'Home Team Continent'}, inplace=True) \n",
    "matches_clean_df.drop(columns= ['Country_x', 'Country_y'], inplace=True)\n",
    "matches_clean_df;"
   ]
  },
  {
   "cell_type": "markdown",
   "id": "11e2f3cc",
   "metadata": {
    "hidden": true,
    "slideshow": {
     "slide_type": "skip"
    }
   },
   "source": [
    "#### players_df table"
   ]
  },
  {
   "cell_type": "code",
   "execution_count": 33,
   "id": "b0048ed5",
   "metadata": {
    "hidden": true,
    "slideshow": {
     "slide_type": "skip"
    }
   },
   "outputs": [],
   "source": [
    "# drop duplicates\n",
    "players_df.drop_duplicates(inplace=True)"
   ]
  },
  {
   "cell_type": "markdown",
   "id": "4164db65",
   "metadata": {
    "hidden": true,
    "slideshow": {
     "slide_type": "skip"
    }
   },
   "source": [
    "#### world_df table"
   ]
  },
  {
   "cell_type": "markdown",
   "id": "472f0238",
   "metadata": {
    "hidden": true,
    "slideshow": {
     "slide_type": "skip"
    }
   },
   "source": [
    "Extract valid attendance for each finals from 'matches_clean_df' table  \n",
    "**Note: The data for 1950 world cup final was hard coded because it is missing.**"
   ]
  },
  {
   "cell_type": "code",
   "execution_count": 34,
   "id": "4114468f",
   "metadata": {
    "hidden": true,
    "scrolled": true,
    "slideshow": {
     "slide_type": "skip"
    }
   },
   "outputs": [],
   "source": [
    "valid_attendance = list(matches_clean_df.query('Stage == \"Final\"').sort_values(by=\"Year\").Attendance.values)\n",
    "valid_attendance.insert(3, 173850)"
   ]
  },
  {
   "cell_type": "code",
   "execution_count": 35,
   "id": "7e05c5dd",
   "metadata": {
    "hidden": true,
    "slideshow": {
     "slide_type": "skip"
    }
   },
   "outputs": [
    {
     "data": {
      "text/plain": [
       "20"
      ]
     },
     "execution_count": 35,
     "metadata": {},
     "output_type": "execute_result"
    }
   ],
   "source": [
    "len(valid_attendance)"
   ]
  },
  {
   "cell_type": "code",
   "execution_count": 36,
   "id": "e14238de",
   "metadata": {
    "hidden": true,
    "slideshow": {
     "slide_type": "skip"
    }
   },
   "outputs": [],
   "source": [
    "world_clean_df['Attendance'] = valid_attendance\n",
    "world_clean_df;"
   ]
  },
  {
   "cell_type": "code",
   "execution_count": 37,
   "id": "d961db24",
   "metadata": {
    "hidden": true,
    "slideshow": {
     "slide_type": "skip"
    }
   },
   "outputs": [],
   "source": [
    "# rename 'Country' column in 'world_clean_df' table before merging to avoid overlapping\n",
    "world_clean_df.rename(columns={'Country': 'Host Country'}, inplace=True)"
   ]
  },
  {
   "cell_type": "code",
   "execution_count": 38,
   "id": "014bfe7c",
   "metadata": {
    "hidden": true,
    "slideshow": {
     "slide_type": "skip"
    }
   },
   "outputs": [],
   "source": [
    "columns = ['Winner', 'Runners-Up', 'Third', 'Fourth']\n",
    "\n",
    "for column in columns:\n",
    "    world_clean_df= pd.merge(continent, world_clean_df, right_on=column, left_on='Country')\n",
    "    world_clean_df.drop('Country', axis=1, inplace=True)\n",
    "    new_name = column + ' Continent'\n",
    "    world_clean_df.rename(columns={'Continent': new_name}, inplace=True)\n",
    "\n",
    "world_clean_df;"
   ]
  },
  {
   "cell_type": "markdown",
   "id": "83213b1e",
   "metadata": {
    "slideshow": {
     "slide_type": "slide"
    }
   },
   "source": [
    "## How many countries have participated in the FIFA World Cup? \n",
    "\n",
    "A total of 83 countries have participated in the FIFA World Cup with Argentina having the highest number of appearance, 16. "
   ]
  },
  {
   "cell_type": "code",
   "execution_count": 39,
   "id": "9a382bad",
   "metadata": {
    "slideshow": {
     "slide_type": "skip"
    }
   },
   "outputs": [],
   "source": [
    "top_participants = (matches_clean_df\n",
    "                   .groupby(['Year', 'Away Team Name'], as_index=False)\n",
    "                   .count()['Away Team Name']\n",
    "                   .value_counts()\n",
    "                   .head()\n",
    "                  )"
   ]
  },
  {
   "cell_type": "code",
   "execution_count": 40,
   "id": "bec7e862",
   "metadata": {
    "scrolled": false,
    "slideshow": {
     "slide_type": "subslide"
    }
   },
   "outputs": [
    {
     "name": "stdout",
     "output_type": "stream",
     "text": [
      "83\n"
     ]
    },
    {
     "data": {
      "text/plain": [
       "Argentina    16\n",
       "Brazil       15\n",
       "Mexico       15\n",
       "Italy        14\n",
       "France       14\n",
       "Name: Away Team Name, dtype: int64"
      ]
     },
     "metadata": {},
     "output_type": "display_data"
    },
    {
     "data": {
      "image/png": "[encoded data removed]",
      "text/plain": [
       "<Figure size 432x288 with 1 Axes>"
      ]
     },
     "metadata": {
      "needs_background": "light"
     },
     "output_type": "display_data"
    }
   ],
   "source": [
    "base_color = sns.color_palette()[0]\n",
    "print(len(matches_clean_df['Away Team Name'].unique()))\n",
    "display(top_participants)\n",
    "sns.barplot(top_participants.index, top_participants, color=base_color)\n",
    "plt.xlabel('Countries')\n",
    "plt.ylabel('Number of Appearance')\n",
    "plt.title('National Team Appearances in the FIFA World Cup');"
   ]
  },
  {
   "cell_type": "markdown",
   "id": "8c2421fd",
   "metadata": {
    "slideshow": {
     "slide_type": "slide"
    }
   },
   "source": [
    "## How many countries from each continent have participated in the FIFA World Cup? \n",
    "\n",
    "Countries from Europe have the highest number of appearances in the FIFA World Cup. 'Appearance' here does not denote number of matches played but rather participation per year."
   ]
  },
  {
   "cell_type": "code",
   "execution_count": 41,
   "id": "5f84d108",
   "metadata": {
    "scrolled": true,
    "slideshow": {
     "slide_type": "skip"
    }
   },
   "outputs": [],
   "source": [
    "top_participants_continent = (matches_clean_df\n",
    "                   .groupby(['Year', 'Away Team Name', 'Away Team Continent'], as_index=False)\n",
    "                   .count()['Away Team Continent']\n",
    "                   .value_counts()\n",
    "                   .head()\n",
    "                  )"
   ]
  },
  {
   "cell_type": "code",
   "execution_count": 42,
   "id": "0413c179",
   "metadata": {
    "scrolled": false,
    "slideshow": {
     "slide_type": "subslide"
    }
   },
   "outputs": [
    {
     "data": {
      "text/plain": [
       "Europe           210\n",
       "South America     73\n",
       "Asia              44\n",
       "Africa            39\n",
       "North America     39\n",
       "Name: Away Team Continent, dtype: int64"
      ]
     },
     "metadata": {},
     "output_type": "display_data"
    },
    {
     "data": {
      "image/png": "[encoded data removed]",
      "text/plain": [
       "<Figure size 432x288 with 1 Axes>"
      ]
     },
     "metadata": {
      "needs_background": "light"
     },
     "output_type": "display_data"
    }
   ],
   "source": [
    "display(top_participants_continent)\n",
    "sns.barplot(top_participants_continent.index, top_participants_continent, color=base_color)\n",
    "plt.xlabel('Continent')\n",
    "plt.ylabel('Number of Appearance')\n",
    "plt.title('National Team Appearances in the FIFA World Cup by Continent');"
   ]
  },
  {
   "cell_type": "markdown",
   "id": "1b691be5",
   "metadata": {
    "slideshow": {
     "slide_type": "slide"
    }
   },
   "source": [
    "## How does the attendance vary over the past tournaments? \n",
    "A higher number of people watched the first world cup compared to the next two subsequent tournaments. Also, there is a significant drop around 1998 and 2002."
   ]
  },
  {
   "cell_type": "code",
   "execution_count": 43,
   "id": "ef836981",
   "metadata": {},
   "outputs": [],
   "source": [
    "def sum_attendance(data, var_name):\n",
    "    \"\"\"Sum up all attendance by year.\n",
    "    input: dataframe\n",
    "    outputs: table showing top 5 and visualization\"\"\"\n",
    "    \n",
    "    data = data.groupby(['Year'], as_index=True).sum()['Attendance']\n",
    "    display(data.head())\n",
    "    data.plot()\n",
    "    plt.title(f'Distribution of {var_name} Per Year');"
   ]
  },
  {
   "cell_type": "code",
   "execution_count": 44,
   "id": "84355e23",
   "metadata": {
    "slideshow": {
     "slide_type": "subslide"
    }
   },
   "outputs": [
    {
     "data": {
      "text/plain": [
       "Year\n",
       "1930     590549.0\n",
       "1934     363000.0\n",
       "1938     375700.0\n",
       "1950    1045246.0\n",
       "1954     768607.0\n",
       "Name: Attendance, dtype: float64"
      ]
     },
     "metadata": {},
     "output_type": "display_data"
    },
    {
     "data": {
      "image/png": "[encoded data removed]",
      "text/plain": [
       "<Figure size 432x288 with 1 Axes>"
      ]
     },
     "metadata": {
      "needs_background": "light"
     },
     "output_type": "display_data"
    }
   ],
   "source": [
    "sum_attendance(matches_clean_df, 'Attendance')"
   ]
  },
  {
   "cell_type": "markdown",
   "id": "a2e3fd77",
   "metadata": {
    "slideshow": {
     "slide_type": "slide"
    }
   },
   "source": [
    "## Which country has hosted the World Cup the most?\n",
    "\n",
    "Each of France, Brazil, Germany, Mexico and Italy have hosted the World Cup twice while Korea and Japan both jointly hosted the tournament once. The rest of the countries hosted once"
   ]
  },
  {
   "cell_type": "code",
   "execution_count": 45,
   "id": "5c86c233",
   "metadata": {
    "scrolled": false,
    "slideshow": {
     "slide_type": "subslide"
    }
   },
   "outputs": [
    {
     "data": {
      "text/plain": [
       "Mexico     2\n",
       "France     2\n",
       "Germany    2\n",
       "Name: Host Country, dtype: int64"
      ]
     },
     "metadata": {},
     "output_type": "display_data"
    },
    {
     "data": {
      "image/png": "[encoded data removed]",
      "text/plain": [
       "<Figure size 432x288 with 1 Axes>"
      ]
     },
     "metadata": {
      "needs_background": "light"
     },
     "output_type": "display_data"
    }
   ],
   "source": [
    "host = world_clean_df['Host Country'].value_counts()\n",
    "display(host.head(3))\n",
    "sns.barplot(host, host.index, color=base_color)\n",
    "plt.xticks([1, 2])\n",
    "plt.xlabel('')\n",
    "plt.title('Number of time each country has hosted the World Cup');"
   ]
  },
  {
   "cell_type": "markdown",
   "id": "aa5b34f8",
   "metadata": {
    "slideshow": {
     "slide_type": "slide"
    }
   },
   "source": [
    "## Which country has the number of World Cup trophy?\n",
    "\n",
    "South America country Brazil has the highest number of World Cup trophy; 5 in their cabinet!"
   ]
  },
  {
   "cell_type": "code",
   "execution_count": 46,
   "id": "3c997477",
   "metadata": {
    "scrolled": false,
    "slideshow": {
     "slide_type": "subslide"
    }
   },
   "outputs": [
    {
     "data": {
      "text/plain": [
       "Brazil        5\n",
       "Italy         4\n",
       "Germany FR    3\n",
       "Uruguay       2\n",
       "Argentina     2\n",
       "Name: Winner, dtype: int64"
      ]
     },
     "metadata": {},
     "output_type": "display_data"
    },
    {
     "data": {
      "image/png": "[encoded data removed]",
      "text/plain": [
       "<Figure size 432x288 with 1 Axes>"
      ]
     },
     "metadata": {
      "needs_background": "light"
     },
     "output_type": "display_data"
    }
   ],
   "source": [
    "winners = world_clean_df.Winner.value_counts()\n",
    "display(winners.head())\n",
    "sns.countplot(data=world_clean_df, y='Winner', hue = 'Winner Continent', order=winners.index)\n",
    "plt.title('Country with most World Cup titles');"
   ]
  },
  {
   "cell_type": "markdown",
   "id": "d86e9dea",
   "metadata": {
    "slideshow": {
     "slide_type": "slide"
    }
   },
   "source": [
    "## What effect does a home country's continent have on the attendance of spectators?\n",
    "\n",
    "Countries in South America seem to have better spectator turn out "
   ]
  },
  {
   "cell_type": "code",
   "execution_count": 47,
   "id": "0567e935",
   "metadata": {
    "scrolled": true,
    "slideshow": {
     "slide_type": "subslide"
    }
   },
   "outputs": [
    {
     "data": {
      "image/png": "[encoded data removed]",
      "text/plain": [
       "<Figure size 576x288 with 1 Axes>"
      ]
     },
     "metadata": {
      "needs_background": "light"
     },
     "output_type": "display_data"
    }
   ],
   "source": [
    "plt.figure(figsize=(8, 4))\n",
    "sns.boxplot(data=matches_clean_df, x='Home Team Continent', y='Attendance', color=base_color)\n",
    "plt.xticks(rotation=15);"
   ]
  },
  {
   "cell_type": "markdown",
   "id": "f958508b",
   "metadata": {
    "slideshow": {
     "slide_type": "slide"
    }
   },
   "source": [
    "## How does the attendance vary over the past finals? \n",
    "The 1950 final between Brazil and Uruguay remains the most attended match in World Cup history with 173850 spectators. Another observation is since the curios drop around 1954 to 1960, the number of spectators never reach 100,000. The most recent, 2014, being slightly over 74,000."
   ]
  },
  {
   "cell_type": "code",
   "execution_count": 48,
   "id": "c1a78d2f",
   "metadata": {
    "scrolled": false,
    "slideshow": {
     "slide_type": "subslide"
    }
   },
   "outputs": [
    {
     "data": {
      "text/plain": [
       "Year\n",
       "1930     68346\n",
       "1934     55000\n",
       "1938     45000\n",
       "1950    173850\n",
       "1954     62500\n",
       "Name: Attendance, dtype: int64"
      ]
     },
     "metadata": {},
     "output_type": "display_data"
    },
    {
     "data": {
      "image/png": "[encoded data removed]",
      "text/plain": [
       "<Figure size 432x288 with 1 Axes>"
      ]
     },
     "metadata": {
      "needs_background": "light"
     },
     "output_type": "display_data"
    }
   ],
   "source": [
    "sum_attendance(world_clean_df, 'Final Match Attendance')"
   ]
  },
  {
   "cell_type": "code",
   "execution_count": 50,
   "id": "f3cef3bf",
   "metadata": {
    "collapsed": true,
    "slideshow": {
     "slide_type": "skip"
    }
   },
   "outputs": [
    {
     "name": "stderr",
     "output_type": "stream",
     "text": [
      "[NbConvertApp] WARNING | Config option `kernel_spec_manager_class` not recognized by `NbConvertApp`.\n",
      "[NbConvertApp] Converting notebook Exploration_of_FIFA_World_Cup_Data_Part2.ipynb to slides\n",
      "[NbConvertApp] Writing 712875 bytes to Exploration_of_FIFA_World_Cup_Data_Part2.slides.html\n",
      "[NbConvertApp] Redirecting reveal.js requests to https://cdnjs.cloudflare.com/ajax/libs/reveal.js/3.5.0\n",
      "Traceback (most recent call last):\n",
      "  File \"c:\\users\\dell\\anaconda3\\lib\\runpy.py\", line 193, in _run_module_as_main\n",
      "    \"__main__\", mod_spec)\n",
      "  File \"c:\\users\\dell\\anaconda3\\lib\\runpy.py\", line 85, in _run_code\n",
      "    exec(code, run_globals)\n",
      "  File \"C:\\Users\\DELL\\anaconda3\\Scripts\\jupyter-nbconvert.EXE\\__main__.py\", line 7, in <module>\n",
      "  File \"c:\\users\\dell\\anaconda3\\lib\\site-packages\\jupyter_core\\application.py\", line 269, in launch_instance\n",
      "    return super().launch_instance(argv=argv, **kwargs)\n",
      "  File \"c:\\users\\dell\\anaconda3\\lib\\site-packages\\traitlets\\config\\application.py\", line 976, in launch_instance\n",
      "    app.start()\n",
      "  File \"c:\\users\\dell\\anaconda3\\lib\\site-packages\\nbconvert\\nbconvertapp.py\", line 414, in start\n",
      "    self.convert_notebooks()\n",
      "  File \"c:\\users\\dell\\anaconda3\\lib\\site-packages\\nbconvert\\nbconvertapp.py\", line 588, in convert_notebooks\n",
      "    self.convert_single_notebook(notebook_filename)\n",
      "  File \"c:\\users\\dell\\anaconda3\\lib\\site-packages\\nbconvert\\nbconvertapp.py\", line 555, in convert_single_notebook\n",
      "    self.postprocess_single_notebook(write_results)\n",
      "  File \"c:\\users\\dell\\anaconda3\\lib\\site-packages\\nbconvert\\nbconvertapp.py\", line 525, in postprocess_single_notebook\n",
      "    self.postprocessor(write_results)\n",
      "  File \"c:\\users\\dell\\anaconda3\\lib\\site-packages\\nbconvert\\postprocessors\\base.py\", line 27, in __call__\n",
      "    self.postprocess(input)\n",
      "  File \"c:\\users\\dell\\anaconda3\\lib\\site-packages\\nbconvert\\postprocessors\\serve.py\", line 91, in postprocess\n",
      "    http_server.listen(self.port, address=self.ip)\n",
      "  File \"c:\\users\\dell\\anaconda3\\lib\\site-packages\\tornado\\tcpserver.py\", line 151, in listen\n",
      "    sockets = bind_sockets(port, address=address)\n",
      "  File \"c:\\users\\dell\\anaconda3\\lib\\site-packages\\tornado\\netutil.py\", line 161, in bind_sockets\n",
      "    sock.bind(sockaddr)\n",
      "OSError: [WinError 10048] Only one usage of each socket address (protocol/network address/port) is normally permitted\n"
     ]
    }
   ],
   "source": [
    "!jupyter nbconvert Exploration_of_FIFA_World_Cup_Data_Part2.ipynb --to slides --post serve  --no-input --no-prompt"
   ]
  }
 ],
 "metadata": {
  "celltoolbar": "Slideshow",
  "kernelspec": {
   "display_name": "Python [conda env:root] *",
   "language": "python",
   "name": "conda-root-py"
  },
  "language_info": {
   "codemirror_mode": {
    "name": "ipython",
    "version": 3
   },
   "file_extension": ".py",
   "mimetype": "text/x-python",
   "name": "python",
   "nbconvert_exporter": "python",
   "pygments_lexer": "ipython3",
   "version": "3.7.6"
  }
 },
 "nbformat": 4,
 "nbformat_minor": 5
}
