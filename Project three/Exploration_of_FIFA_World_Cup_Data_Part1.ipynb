{
 "cells": [
  {
   "cell_type": "markdown",
   "id": "62b2ca02",
   "metadata": {},
   "source": [
    "# Project: Exploration of FIFA World Cup Data"
   ]
  },
  {
   "cell_type": "markdown",
   "id": "b1cad4f2",
   "metadata": {},
   "source": [
    "## Table of Contents"
   ]
  },
  {
   "cell_type": "markdown",
   "id": "3df1d078",
   "metadata": {},
   "source": [
    "- [Introduction](#intro)\n",
    "- [Downloading the Datasets](#download)\n",
    "- [Preliminary Wrangling](#wrangle)\n",
    "- [Project Motivation](#motivation)\n",
    "- [Univariate Exploration](#univariate)\n",
    "- [Bivariate Exploration](#bivariate)\n",
    "- [Multivariate Exploration](#multivariate)\n",
    "- [Conclusion](#conclusion)"
   ]
  },
  {
   "cell_type": "markdown",
   "id": "23826522",
   "metadata": {},
   "source": [
    "<a id='intro'></a>"
   ]
  },
  {
   "cell_type": "markdown",
   "id": "821462ac",
   "metadata": {},
   "source": [
    "## 1. Introduction"
   ]
  },
  {
   "cell_type": "markdown",
   "id": "9db411d8",
   "metadata": {},
   "source": [
    "> The FIFA World Cup, often simply called the World Cup, is an international association football competition contested by the senior men's national teams of the members of the Fédération Internationale de Football Association (FIFA), the sport's global governing body. The championship has been awarded every four years since the inaugural tournament in 1930, except in 1942 and 1946 when it was not held because of the Second World War. The current champion is France, which won its second title at the 2018 tournament in Russia. [(Wikipedia)](https://en.wikipedia.org/wiki/FIFA_World_Cup)\n",
    "> \n",
    "> The data. This project features three datasets downloaded from Kaggle [(Data Source)](https://www.kaggle.com/datasets/abecklas/fifa-world-cup?select=WorldCups.csv). The first dataset contains basic match information such as home team name, stadium, city, referee name and so on. The second dataset contains player information such as player name, shirt number, position etc. The last dataset contains information about the tournament such as the winners, runner-ups, qualified team, goals scored etc. \n",
    ">\n",
    "> The objective of this project is to demonstrate the understanding of two data analysis processes: **'Exploratory Data Analysis'**  and **'Explanatory Data Analysis'**."
   ]
  },
  {
   "cell_type": "code",
   "execution_count": 1,
   "id": "36962313",
   "metadata": {},
   "outputs": [],
   "source": [
    "# import all necessary packages \n",
    "import numpy as np\n",
    "import pandas as pd \n",
    "import matplotlib.pyplot as plt\n",
    "import seaborn as sns\n",
    "%matplotlib inline\n",
    "import opendatasets as od;"
   ]
  },
  {
   "cell_type": "markdown",
   "id": "bed2775b",
   "metadata": {},
   "source": [
    "<a id='download'></a>"
   ]
  },
  {
   "cell_type": "markdown",
   "id": "33479097",
   "metadata": {
    "heading_collapsed": true
   },
   "source": [
    "##  2. Downloading the Datasets\n",
    "The datasets can be easily downloaded using the opendatasets library. "
   ]
  },
  {
   "cell_type": "code",
   "execution_count": 2,
   "id": "d2ba718b",
   "metadata": {
    "hidden": true,
    "scrolled": true
   },
   "outputs": [
    {
     "name": "stderr",
     "output_type": "stream",
     "text": [
      "\r",
      "  0%|                                                                                       | 0.00/349k [00:00<?, ?B/s]"
     ]
    },
    {
     "name": "stdout",
     "output_type": "stream",
     "text": [
      "Downloading fifa-world-cup.zip to .\\fifa-world-cup\n"
     ]
    },
    {
     "name": "stderr",
     "output_type": "stream",
     "text": [
      "100%|████████████████████████████████████████████████████████████████████████████████| 349k/349k [00:00<00:00, 582kB/s]\n"
     ]
    },
    {
     "name": "stdout",
     "output_type": "stream",
     "text": [
      "\n"
     ]
    }
   ],
   "source": [
    "# download datasets programmatically  \n",
    "url = \"https://www.kaggle.com/datasets/abecklas/fifa-world-cup/download\"\n",
    "od.download(url, force=False)"
   ]
  },
  {
   "cell_type": "markdown",
   "id": "bb6f050b",
   "metadata": {
    "hidden": true
   },
   "source": [
    "<a id='wrangle'></a>"
   ]
  },
  {
   "cell_type": "markdown",
   "id": "d1f82d5e",
   "metadata": {
    "heading_collapsed": true
   },
   "source": [
    "## 3. Preliminary Wrangling\n",
    "**Note:   \n",
    "Semicolons are added to suppress large output of some cells   \n",
    "Remove semicolon to show output**"
   ]
  },
  {
   "cell_type": "markdown",
   "id": "f94e62b8",
   "metadata": {
    "hidden": true
   },
   "source": [
    "### 3.1 Gather"
   ]
  },
  {
   "cell_type": "code",
   "execution_count": 3,
   "id": "be785f8a",
   "metadata": {
    "hidden": true
   },
   "outputs": [],
   "source": [
    "# load the three datasets into the pandas dataframe\n",
    "matches_df = pd.read_csv('./fifa-world-cup/WorldCupMatches.csv')\n",
    "players_df = pd.read_csv('./fifa-world-cup/WorldCupPlayers.csv')\n",
    "world_df = pd.read_csv('./fifa-world-cup/WorldCups.csv')"
   ]
  },
  {
   "cell_type": "markdown",
   "id": "23de0cca",
   "metadata": {
    "hidden": true
   },
   "source": [
    "### 3.2 Assess\n",
    "Here, I accessed the quality and tidiness of the datasets by checking for erroneous datatypes, duplicates, missing value and so on. Also, this would get me acquainted with the structure of the data. "
   ]
  },
  {
   "cell_type": "markdown",
   "id": "bf6ac898",
   "metadata": {
    "hidden": true
   },
   "source": [
    "#### ***matches_df***"
   ]
  },
  {
   "cell_type": "code",
   "execution_count": 4,
   "id": "634007b5",
   "metadata": {
    "hidden": true,
    "scrolled": false
   },
   "outputs": [],
   "source": [
    "matches_df.head();"
   ]
  },
  {
   "cell_type": "code",
   "execution_count": 5,
   "id": "04a34b00",
   "metadata": {
    "hidden": true
   },
   "outputs": [
    {
     "name": "stdout",
     "output_type": "stream",
     "text": [
      "<class 'pandas.core.frame.DataFrame'>\n",
      "RangeIndex: 4572 entries, 0 to 4571\n",
      "Data columns (total 20 columns):\n",
      " #   Column                Non-Null Count  Dtype  \n",
      "---  ------                --------------  -----  \n",
      " 0   Year                  852 non-null    float64\n",
      " 1   Datetime              852 non-null    object \n",
      " 2   Stage                 852 non-null    object \n",
      " 3   Stadium               852 non-null    object \n",
      " 4   City                  852 non-null    object \n",
      " 5   Home Team Name        852 non-null    object \n",
      " 6   Home Team Goals       852 non-null    float64\n",
      " 7   Away Team Goals       852 non-null    float64\n",
      " 8   Away Team Name        852 non-null    object \n",
      " 9   Win conditions        852 non-null    object \n",
      " 10  Attendance            850 non-null    float64\n",
      " 11  Half-time Home Goals  852 non-null    float64\n",
      " 12  Half-time Away Goals  852 non-null    float64\n",
      " 13  Referee               852 non-null    object \n",
      " 14  Assistant 1           852 non-null    object \n",
      " 15  Assistant 2           852 non-null    object \n",
      " 16  RoundID               852 non-null    float64\n",
      " 17  MatchID               852 non-null    float64\n",
      " 18  Home Team Initials    852 non-null    object \n",
      " 19  Away Team Initials    852 non-null    object \n",
      "dtypes: float64(8), object(12)\n",
      "memory usage: 714.5+ KB\n"
     ]
    }
   ],
   "source": [
    "matches_df.info()"
   ]
  },
  {
   "cell_type": "code",
   "execution_count": 6,
   "id": "39463ca7",
   "metadata": {
    "hidden": true,
    "scrolled": true
   },
   "outputs": [
    {
     "data": {
      "text/plain": [
       "3735"
      ]
     },
     "execution_count": 6,
     "metadata": {},
     "output_type": "execute_result"
    }
   ],
   "source": [
    "sum(matches_df.duplicated())"
   ]
  },
  {
   "cell_type": "code",
   "execution_count": 7,
   "id": "ca720d35",
   "metadata": {
    "hidden": true
   },
   "outputs": [],
   "source": [
    "matches_df[matches_df['Year'].isnull()];"
   ]
  },
  {
   "cell_type": "code",
   "execution_count": 8,
   "id": "56f39ab4",
   "metadata": {
    "hidden": true,
    "scrolled": true
   },
   "outputs": [],
   "source": [
    "matches_df.iloc[[850, 851]];"
   ]
  },
  {
   "cell_type": "markdown",
   "id": "e14a65f3",
   "metadata": {
    "hidden": true
   },
   "source": [
    "**It seems the data entry stopped at row 851. Hence, all subsequent rows are irrelevant.**"
   ]
  },
  {
   "cell_type": "code",
   "execution_count": 9,
   "id": "062e2fb7",
   "metadata": {
    "hidden": true,
    "scrolled": true
   },
   "outputs": [],
   "source": [
    "matches_df.Stage.unique();"
   ]
  },
  {
   "cell_type": "code",
   "execution_count": 10,
   "id": "b475f38f",
   "metadata": {
    "hidden": true
   },
   "outputs": [],
   "source": [
    "matches_df['Home Team Name'].unique();"
   ]
  },
  {
   "cell_type": "code",
   "execution_count": 11,
   "id": "2b4b0144",
   "metadata": {
    "hidden": true
   },
   "outputs": [],
   "source": [
    "matches_df['Away Team Name'].unique();"
   ]
  },
  {
   "cell_type": "markdown",
   "id": "67acc8f8",
   "metadata": {
    "hidden": true
   },
   "source": [
    "#### ***players_df***"
   ]
  },
  {
   "cell_type": "code",
   "execution_count": 12,
   "id": "6c43ff48",
   "metadata": {
    "hidden": true
   },
   "outputs": [],
   "source": [
    "players_df.head();"
   ]
  },
  {
   "cell_type": "code",
   "execution_count": 13,
   "id": "355ec7ba",
   "metadata": {
    "hidden": true,
    "scrolled": false
   },
   "outputs": [
    {
     "name": "stdout",
     "output_type": "stream",
     "text": [
      "<class 'pandas.core.frame.DataFrame'>\n",
      "RangeIndex: 37784 entries, 0 to 37783\n",
      "Data columns (total 9 columns):\n",
      " #   Column         Non-Null Count  Dtype \n",
      "---  ------         --------------  ----- \n",
      " 0   RoundID        37784 non-null  int64 \n",
      " 1   MatchID        37784 non-null  int64 \n",
      " 2   Team Initials  37784 non-null  object\n",
      " 3   Coach Name     37784 non-null  object\n",
      " 4   Line-up        37784 non-null  object\n",
      " 5   Shirt Number   37784 non-null  int64 \n",
      " 6   Player Name    37784 non-null  object\n",
      " 7   Position       4143 non-null   object\n",
      " 8   Event          9069 non-null   object\n",
      "dtypes: int64(3), object(6)\n",
      "memory usage: 2.6+ MB\n"
     ]
    }
   ],
   "source": [
    "players_df.info()"
   ]
  },
  {
   "cell_type": "code",
   "execution_count": 14,
   "id": "4b20e00d",
   "metadata": {
    "hidden": true
   },
   "outputs": [
    {
     "data": {
      "text/plain": [
       "736"
      ]
     },
     "execution_count": 14,
     "metadata": {},
     "output_type": "execute_result"
    }
   ],
   "source": [
    "sum(players_df.duplicated())"
   ]
  },
  {
   "cell_type": "markdown",
   "id": "d661db28",
   "metadata": {
    "hidden": true
   },
   "source": [
    "#### ***world_df***"
   ]
  },
  {
   "cell_type": "code",
   "execution_count": 15,
   "id": "403bd0dd",
   "metadata": {
    "hidden": true,
    "scrolled": true
   },
   "outputs": [],
   "source": [
    "world_df.head();"
   ]
  },
  {
   "cell_type": "code",
   "execution_count": 16,
   "id": "bbc988e1",
   "metadata": {
    "hidden": true
   },
   "outputs": [
    {
     "name": "stdout",
     "output_type": "stream",
     "text": [
      "<class 'pandas.core.frame.DataFrame'>\n",
      "RangeIndex: 20 entries, 0 to 19\n",
      "Data columns (total 10 columns):\n",
      " #   Column          Non-Null Count  Dtype \n",
      "---  ------          --------------  ----- \n",
      " 0   Year            20 non-null     int64 \n",
      " 1   Country         20 non-null     object\n",
      " 2   Winner          20 non-null     object\n",
      " 3   Runners-Up      20 non-null     object\n",
      " 4   Third           20 non-null     object\n",
      " 5   Fourth          20 non-null     object\n",
      " 6   GoalsScored     20 non-null     int64 \n",
      " 7   QualifiedTeams  20 non-null     int64 \n",
      " 8   MatchesPlayed   20 non-null     int64 \n",
      " 9   Attendance      20 non-null     object\n",
      "dtypes: int64(4), object(6)\n",
      "memory usage: 1.7+ KB\n"
     ]
    }
   ],
   "source": [
    "world_df.info()"
   ]
  },
  {
   "cell_type": "code",
   "execution_count": 17,
   "id": "5c7834cb",
   "metadata": {
    "hidden": true,
    "scrolled": true
   },
   "outputs": [],
   "source": [
    "world_df['Country'].unique();"
   ]
  },
  {
   "cell_type": "code",
   "execution_count": 18,
   "id": "e1a6b8cb",
   "metadata": {
    "hidden": true
   },
   "outputs": [],
   "source": [
    "world_df['Winner'].unique();"
   ]
  },
  {
   "cell_type": "code",
   "execution_count": 19,
   "id": "dac84877",
   "metadata": {
    "hidden": true
   },
   "outputs": [],
   "source": [
    "world_df['Runners-Up'].unique();"
   ]
  },
  {
   "cell_type": "code",
   "execution_count": 20,
   "id": "4cba5055",
   "metadata": {
    "hidden": true
   },
   "outputs": [],
   "source": [
    "world_df['Third'].unique();"
   ]
  },
  {
   "cell_type": "code",
   "execution_count": 21,
   "id": "ad2d479a",
   "metadata": {
    "hidden": true
   },
   "outputs": [],
   "source": [
    "world_df['Fourth'].unique();"
   ]
  },
  {
   "cell_type": "markdown",
   "id": "fa2ba3bc",
   "metadata": {
    "hidden": true
   },
   "source": [
    "Upon assessing our data programmatically and visually, the following issues are addressed in the subsequent code cells."
   ]
  },
  {
   "cell_type": "markdown",
   "id": "f8fd66bd",
   "metadata": {
    "hidden": true
   },
   "source": [
    "**```matches_df``` table**\n",
    "- rows with NaN\n",
    "- some rows are duplicated\n",
    "- some column datatype should be 'int' not 'float'\n",
    "- Inconsistent values in 'Stage' column\n",
    "- Erroneous country name\n",
    "\n",
    "**```players_df``` table**\n",
    "- duplicated rows \n",
    "\n",
    "**```world_df``` table**\n",
    "- 'attendance' datatype "
   ]
  },
  {
   "cell_type": "markdown",
   "id": "1a9ec97c",
   "metadata": {
    "hidden": true
   },
   "source": [
    "<a id='motivate'></a>"
   ]
  },
  {
   "cell_type": "markdown",
   "id": "4ed30d79",
   "metadata": {
    "hidden": true
   },
   "source": [
    "### 3.2 Clean"
   ]
  },
  {
   "cell_type": "code",
   "execution_count": 22,
   "id": "8b09fb90",
   "metadata": {
    "hidden": true
   },
   "outputs": [],
   "source": [
    "matches_clean_df = matches_df.copy()\n",
    "world_clean_df = world_df.copy()"
   ]
  },
  {
   "cell_type": "markdown",
   "id": "b8b89435",
   "metadata": {
    "hidden": true
   },
   "source": [
    "#### matches_df table"
   ]
  },
  {
   "cell_type": "markdown",
   "id": "7d2863e9",
   "metadata": {
    "hidden": true
   },
   "source": [
    "##### rows with missing value"
   ]
  },
  {
   "cell_type": "code",
   "execution_count": 23,
   "id": "220fb535",
   "metadata": {
    "hidden": true
   },
   "outputs": [],
   "source": [
    "# drop rows with NaN\n",
    "matches_clean_df.dropna(inplace=True)"
   ]
  },
  {
   "cell_type": "markdown",
   "id": "8d4c96f8",
   "metadata": {
    "hidden": true
   },
   "source": [
    "##### duplicated data"
   ]
  },
  {
   "cell_type": "code",
   "execution_count": 24,
   "id": "5af184c4",
   "metadata": {
    "hidden": true
   },
   "outputs": [],
   "source": [
    "# drop duplicates\n",
    "matches_clean_df.drop_duplicates(inplace=True)"
   ]
  },
  {
   "cell_type": "markdown",
   "id": "3cfe11c8",
   "metadata": {
    "hidden": true
   },
   "source": [
    "##### erroneous datatype"
   ]
  },
  {
   "cell_type": "code",
   "execution_count": 25,
   "id": "caf01116",
   "metadata": {
    "hidden": true
   },
   "outputs": [],
   "source": [
    "# change float datatypes to int\n",
    "for column in matches_clean_df.columns:\n",
    "    if matches_clean_df[column].dtype == float:\n",
    "        matches_clean_df[column] = matches_clean_df[column].astype(int)"
   ]
  },
  {
   "cell_type": "code",
   "execution_count": 26,
   "id": "84274f04",
   "metadata": {
    "hidden": true
   },
   "outputs": [],
   "source": [
    "# change 'Datetime' datatype \n",
    "matches_clean_df.Datetime = pd.to_datetime(matches_clean_df.Datetime)"
   ]
  },
  {
   "cell_type": "code",
   "execution_count": 27,
   "id": "d2a2a37d",
   "metadata": {
    "hidden": true
   },
   "outputs": [],
   "source": [
    "# extract month from 'Datatime' column\n",
    "months = {0: 'Jan', 2:'Feb', 3:'Mar', 4:'April', 5:'May', 6:'Jun', \n",
    "           7:'Jul', 8:'Aug', 9:'Sep', 10:'Oct', 11:'Nov', 12:'Dec'}\n",
    "matches_clean_df['Month'] = matches_clean_df['Datetime'].dt.month.map(months)"
   ]
  },
  {
   "cell_type": "markdown",
   "id": "9cfafd5a",
   "metadata": {
    "hidden": true
   },
   "source": [
    "##### Replace and add new columns\n",
    "There are inconsistent values in 'Stage' column. For example, 'Group 1', 'Group 2', ... correspond to 'Group A', 'Group B', ... respectively. Also, 'Play-off for third place' and 'Match for third place' mean the same thing."
   ]
  },
  {
   "cell_type": "code",
   "execution_count": 28,
   "id": "c01bac17",
   "metadata": {
    "hidden": true
   },
   "outputs": [],
   "source": [
    "# replace inconsistent values\n",
    "old_groups = ['Group 1', 'Group 2', 'Group 3', 'Group 4', 'Group 5', 'Group 6']\n",
    "new_groups = ['Group A', 'Group B', 'Group C', 'Group D', 'Group E', 'Group F'] \n",
    "old_place = ['Match for third place', 'Play-off for third place']\n",
    "new_place = 'Third place'\n",
    "matches_clean_df['Stage'].replace(old_groups, new_groups, inplace=True)\n",
    "matches_clean_df['Stage'].replace(old_place, new_place, inplace=True)"
   ]
  },
  {
   "cell_type": "markdown",
   "id": "c6d0ea82",
   "metadata": {
    "hidden": true
   },
   "source": [
    "Part of this notebook requires analysis based on continents. To archive this, I added add new columns which contains the corresponding continent of each country. The data used is gotten from a Github repository. Also, this file is available in this project repository."
   ]
  },
  {
   "cell_type": "code",
   "execution_count": 29,
   "id": "8a93410a",
   "metadata": {
    "hidden": true
   },
   "outputs": [],
   "source": [
    "continents = pd.read_csv('https://raw.githubusercontent.com/dbouquin/IS_608/master/NanosatDB_munging/Countries-Continents.csv')"
   ]
  },
  {
   "cell_type": "code",
   "execution_count": 30,
   "id": "225049a6",
   "metadata": {
    "hidden": true,
    "scrolled": false
   },
   "outputs": [
    {
     "data": {
      "text/html": [
       "<div>\n",
       "<style scoped>\n",
       "    .dataframe tbody tr th:only-of-type {\n",
       "        vertical-align: middle;\n",
       "    }\n",
       "\n",
       "    .dataframe tbody tr th {\n",
       "        vertical-align: top;\n",
       "    }\n",
       "\n",
       "    .dataframe thead th {\n",
       "        text-align: right;\n",
       "    }\n",
       "</style>\n",
       "<table border=\"1\" class=\"dataframe\">\n",
       "  <thead>\n",
       "    <tr style=\"text-align: right;\">\n",
       "      <th></th>\n",
       "      <th>Continent</th>\n",
       "      <th>Country</th>\n",
       "    </tr>\n",
       "  </thead>\n",
       "  <tbody>\n",
       "    <tr>\n",
       "      <th>0</th>\n",
       "      <td>Africa</td>\n",
       "      <td>Algeria</td>\n",
       "    </tr>\n",
       "    <tr>\n",
       "      <th>1</th>\n",
       "      <td>Africa</td>\n",
       "      <td>Angola</td>\n",
       "    </tr>\n",
       "    <tr>\n",
       "      <th>2</th>\n",
       "      <td>Africa</td>\n",
       "      <td>Benin</td>\n",
       "    </tr>\n",
       "  </tbody>\n",
       "</table>\n",
       "</div>"
      ],
      "text/plain": [
       "  Continent  Country\n",
       "0    Africa  Algeria\n",
       "1    Africa   Angola\n",
       "2    Africa    Benin"
      ]
     },
     "execution_count": 30,
     "metadata": {},
     "output_type": "execute_result"
    }
   ],
   "source": [
    "continents.head(3)"
   ]
  },
  {
   "cell_type": "markdown",
   "id": "88970b71",
   "metadata": {
    "hidden": true
   },
   "source": [
    "**Note: Country names that start with 'rn' denote the current country name at the time of the tournament**"
   ]
  },
  {
   "cell_type": "code",
   "execution_count": 31,
   "id": "dc840ce6",
   "metadata": {
    "hidden": true
   },
   "outputs": [],
   "source": [
    "old_name = ['rn\">United Arab Emirates', 'rn\">Republic of Ireland', \n",
    "            'rn\">Trinidad and Tobago', 'rn\">Serbia and Montenegro',\n",
    "            \"C�te d'Ivoire\", 'rn\">Bosnia and Herzegovina',\n",
    "           ]\n",
    "\n",
    "new_name = ['United Arab Emirates', 'Republic of Ireland', \n",
    "            'Trinidad and Tobago', 'Serbia and Montenegro',\n",
    "            \"Cote d'Ivoire\", 'Bosnia and Herzegovina',\n",
    "           ]\n",
    "    \n",
    "matches_clean_df[['Home Team Name', 'Away Team Name']] = (\n",
    "    matches_clean_df[['Home Team Name', 'Away Team Name']].replace(old_name, new_name)\n",
    ")"
   ]
  },
  {
   "cell_type": "markdown",
   "id": "714b7e4a",
   "metadata": {
    "hidden": true
   },
   "source": [
    "Before I merge both dataframes however, I first checked for countries with missing continents in the 'continent file'. These countries, if any exist, are added manually."
   ]
  },
  {
   "cell_type": "code",
   "execution_count": 32,
   "id": "0f523f99",
   "metadata": {
    "hidden": true
   },
   "outputs": [],
   "source": [
    "home_countries = matches_clean_df['Home Team Name']\n",
    "away_countries = matches_clean_df['Away Team Name']\n",
    "\n",
    "missing_home = home_countries[~home_countries.isin(continents.Country)].unique()\n",
    "missing_away = away_countries[~away_countries.isin(continents.Country)].unique()\n",
    "\n",
    "missing_home;\n",
    "missing_away;\n",
    "\n",
    "additional_continents = {'England': 'Europe', 'Wales': 'Europe', 'Scotland': 'Europe', \n",
    "                         'Republic of Ireland': 'Europe', 'Northern Ireland': 'Europe',\n",
    "                         'USA': 'North America', 'Congo DR': 'Africa', \n",
    "                         \"Cote d'Ivoire\": 'Africa', 'Korea DPR': 'Asia',\n",
    "                         'Dutch East Indies': 'Asia', 'Korea Republic': 'Asia',\n",
    "                         'Germany FR': 'Europe', 'Soviet Union': 'Asia', \n",
    "                         'German DR': 'Europe', 'Zaire': 'Africa', 'Russia': 'Asia', \n",
    "                         'China PR': 'Asia', 'Czech Republic': 'Europe',\n",
    "                         'Serbia and Montenegro': 'Europe', 'IR Iran': 'Asia',\n",
    "                         'Yugoslavia': 'Europe', 'Czechoslovakia': 'Europe'\n",
    "                        }\n",
    "\n",
    "# convert additional_contents to dataframe\n",
    "additional_continents_df = pd.DataFrame(additional_continents.items(), columns=['Country', 'Continent'])\n",
    "additional_continents_df\n",
    "\n",
    "# append 'additional_continents_df' to 'continents'\n",
    "continent = continents.append(additional_continents_df)\n",
    "continent\n",
    "\n",
    "# create two new columns corresponding to the continents of Home and Away countries\n",
    "matches_clean_df = pd.merge(continent, matches_clean_df, right_on='Home Team Name', left_on='Country')\n",
    "matches_clean_df = pd.merge(continent, matches_clean_df, right_on='Away Team Name', left_on='Country')\n",
    "matches_clean_df\n",
    "\n",
    "# rename and drop columns\n",
    "matches_clean_df.rename(columns={'Continent_x': 'Away Team Continent', 'Continent_y': 'Home Team Continent'}, inplace=True) \n",
    "matches_clean_df.drop(columns= ['Country_x', 'Country_y'], inplace=True)\n",
    "matches_clean_df;"
   ]
  },
  {
   "cell_type": "markdown",
   "id": "305b9d8f",
   "metadata": {
    "hidden": true
   },
   "source": [
    "#### players_df table"
   ]
  },
  {
   "cell_type": "code",
   "execution_count": 33,
   "id": "236f65de",
   "metadata": {
    "hidden": true
   },
   "outputs": [],
   "source": [
    "# drop duplicates\n",
    "players_df.drop_duplicates(inplace=True)"
   ]
  },
  {
   "cell_type": "markdown",
   "id": "e9db3442",
   "metadata": {
    "hidden": true
   },
   "source": [
    "#### world_df table"
   ]
  },
  {
   "cell_type": "markdown",
   "id": "6aef18b9",
   "metadata": {
    "hidden": true
   },
   "source": [
    "Extract valid attendance for each finals from 'matches_clean_df' table  \n",
    "**Note: The data for 1950 world cup final was hard coded because it is missing.**"
   ]
  },
  {
   "cell_type": "code",
   "execution_count": 34,
   "id": "db24c079",
   "metadata": {
    "hidden": true,
    "scrolled": true
   },
   "outputs": [],
   "source": [
    "valid_attendance = list(matches_clean_df.query('Stage == \"Final\"').sort_values(by=\"Year\").Attendance.values)\n",
    "valid_attendance.insert(3, 173850)"
   ]
  },
  {
   "cell_type": "code",
   "execution_count": 35,
   "id": "0ec7704d",
   "metadata": {
    "hidden": true
   },
   "outputs": [
    {
     "data": {
      "text/plain": [
       "20"
      ]
     },
     "execution_count": 35,
     "metadata": {},
     "output_type": "execute_result"
    }
   ],
   "source": [
    "len(valid_attendance)"
   ]
  },
  {
   "cell_type": "code",
   "execution_count": 36,
   "id": "25c7e2c0",
   "metadata": {
    "hidden": true
   },
   "outputs": [],
   "source": [
    "world_clean_df['Attendance'] = valid_attendance\n",
    "world_clean_df;"
   ]
  },
  {
   "cell_type": "code",
   "execution_count": 37,
   "id": "3bba1b55",
   "metadata": {
    "hidden": true
   },
   "outputs": [],
   "source": [
    "# rename 'Country' column in 'world_clean_df' table before merging to avoid overlapping\n",
    "world_clean_df.rename(columns={'Country': 'Host Country'}, inplace=True)"
   ]
  },
  {
   "cell_type": "code",
   "execution_count": 38,
   "id": "263ceefc",
   "metadata": {
    "hidden": true
   },
   "outputs": [],
   "source": [
    "columns = ['Winner', 'Runners-Up', 'Third', 'Fourth']\n",
    "\n",
    "for column in columns:\n",
    "    world_clean_df= pd.merge(continent, world_clean_df, right_on=column, left_on='Country')\n",
    "    world_clean_df.drop('Country', axis=1, inplace=True)\n",
    "    new_name = column + ' Continent'\n",
    "    world_clean_df.rename(columns={'Continent': new_name}, inplace=True)\n",
    "\n",
    "world_clean_df;"
   ]
  },
  {
   "cell_type": "markdown",
   "id": "cd0e61e8",
   "metadata": {
    "hidden": true
   },
   "source": [
    "<a id='motivation'></a>"
   ]
  },
  {
   "cell_type": "markdown",
   "id": "4165525a",
   "metadata": {
    "heading_collapsed": true
   },
   "source": [
    "## 4. Project Motivation\n",
    "The motivation behind this project is to answer some interesting questions about the datasets. Also, few units of energy is expended to determine what factors are associated with countries that have won the World Cup over the years. "
   ]
  },
  {
   "cell_type": "markdown",
   "id": "d2a03f0a",
   "metadata": {
    "hidden": true
   },
   "source": [
    "<font color='red'>**Note: Data for 1950 and 2018 world cup are missing from 'matches_clean_df' table. Gathering the dataset would require significant amount of time. However, though not an excuse, since this project is primarily focused on data visualization, this data is not gathered. In this vein, all questions answered is not and should not be considered 'accurate' as they might be off by few units.**</font>"
   ]
  },
  {
   "cell_type": "markdown",
   "id": "ecc43bba",
   "metadata": {
    "hidden": true
   },
   "source": [
    "<a id='univariate'></a>"
   ]
  },
  {
   "cell_type": "markdown",
   "id": "0200f6b2",
   "metadata": {
    "heading_collapsed": true
   },
   "source": [
    "## 5. Univariate Exploration"
   ]
  },
  {
   "cell_type": "markdown",
   "id": "81403188",
   "metadata": {
    "hidden": true
   },
   "source": [
    "### Q1: How many countries have participated in the FIFA World Cup? "
   ]
  },
  {
   "cell_type": "code",
   "execution_count": 39,
   "id": "8993cb34",
   "metadata": {
    "hidden": true
   },
   "outputs": [],
   "source": [
    "top_participants = (matches_clean_df\n",
    "                   .groupby(['Year', 'Away Team Name'], as_index=False)\n",
    "                   .count()['Away Team Name']\n",
    "                   .value_counts()\n",
    "                   .head()\n",
    "                  )"
   ]
  },
  {
   "cell_type": "code",
   "execution_count": 40,
   "id": "fb286e09",
   "metadata": {
    "hidden": true,
    "scrolled": false
   },
   "outputs": [
    {
     "name": "stdout",
     "output_type": "stream",
     "text": [
      "83\n"
     ]
    },
    {
     "data": {
      "text/plain": [
       "Argentina    16\n",
       "Brazil       15\n",
       "Mexico       15\n",
       "Italy        14\n",
       "France       14\n",
       "Name: Away Team Name, dtype: int64"
      ]
     },
     "metadata": {},
     "output_type": "display_data"
    },
    {
     "data": {
      "image/png": "[encoded data removed]",
      "text/plain": [
       "<Figure size 432x288 with 1 Axes>"
      ]
     },
     "metadata": {
      "needs_background": "light"
     },
     "output_type": "display_data"
    }
   ],
   "source": [
    "base_color = sns.color_palette()[0]\n",
    "print(len(matches_clean_df['Away Team Name'].unique()))\n",
    "display(top_participants)\n",
    "sns.barplot(top_participants.index, top_participants, color=base_color)\n",
    "plt.xlabel('Countries')\n",
    "plt.ylabel('Number of Appearance')\n",
    "plt.title('National Team Appearances in the FIFA World Cup');"
   ]
  },
  {
   "cell_type": "markdown",
   "id": "feb07fb0",
   "metadata": {
    "hidden": true
   },
   "source": [
    "A total of 83 countries have participated in the FIFA World Cup with Argentina having the highest number of appearance, 16. "
   ]
  },
  {
   "cell_type": "markdown",
   "id": "1d1df1b7",
   "metadata": {
    "heading_collapsed": true,
    "hidden": true
   },
   "source": [
    "### Q2: How many countries from each continent have participated in the FIFA World Cup? "
   ]
  },
  {
   "cell_type": "code",
   "execution_count": 41,
   "id": "d7909ad7",
   "metadata": {
    "hidden": true,
    "scrolled": true
   },
   "outputs": [],
   "source": [
    "top_participants_continent = (matches_clean_df\n",
    "                   .groupby(['Year', 'Away Team Name', 'Away Team Continent'], as_index=False)\n",
    "                   .count()['Away Team Continent']\n",
    "                   .value_counts()\n",
    "                   .head()\n",
    "                  )"
   ]
  },
  {
   "cell_type": "code",
   "execution_count": 42,
   "id": "f38852f5",
   "metadata": {
    "hidden": true,
    "scrolled": false
   },
   "outputs": [
    {
     "data": {
      "text/plain": [
       "Europe           210\n",
       "South America     73\n",
       "Asia              44\n",
       "Africa            39\n",
       "North America     39\n",
       "Name: Away Team Continent, dtype: int64"
      ]
     },
     "metadata": {},
     "output_type": "display_data"
    },
    {
     "data": {
      "image/png": "[encoded data removed]",
      "text/plain": [
       "<Figure size 432x288 with 1 Axes>"
      ]
     },
     "metadata": {
      "needs_background": "light"
     },
     "output_type": "display_data"
    }
   ],
   "source": [
    "display(top_participants_continent)\n",
    "sns.barplot(top_participants_continent.index, top_participants_continent, color=base_color)\n",
    "plt.xlabel('Continent')\n",
    "plt.ylabel('Number of Appearance')\n",
    "plt.title('National Team Appearances in the FIFA World Cup by Continent');"
   ]
  },
  {
   "cell_type": "markdown",
   "id": "9b375b70",
   "metadata": {
    "hidden": true
   },
   "source": [
    "Countries from Europe have the highest number of appearances in the FIFA World Cup. 'Appearance' here does not denote number of matches played but rather participation per year."
   ]
  },
  {
   "cell_type": "markdown",
   "id": "2e84d3b7",
   "metadata": {
    "hidden": true
   },
   "source": [
    "### Q3: How does the attendance vary over the past tournaments? "
   ]
  },
  {
   "cell_type": "code",
   "execution_count": 59,
   "id": "1e8bbb20",
   "metadata": {},
   "outputs": [],
   "source": [
    "def sum_attendance(data, var_name):\n",
    "    \"\"\"Sum up all attendance by year.\n",
    "    input: dataframe\n",
    "    outputs: table showing top 5 and visualization\"\"\"\n",
    "    \n",
    "    data = data.groupby(['Year'], as_index=True).sum()['Attendance']\n",
    "    display(data.head())\n",
    "    data.plot()\n",
    "    plt.title(f'Distribution of {var_name} Per Year');"
   ]
  },
  {
   "cell_type": "code",
   "execution_count": 60,
   "id": "974e1777",
   "metadata": {
    "hidden": true
   },
   "outputs": [
    {
     "data": {
      "text/plain": [
       "Year\n",
       "1930     590549.0\n",
       "1934     363000.0\n",
       "1938     375700.0\n",
       "1950    1045246.0\n",
       "1954     768607.0\n",
       "Name: Attendance, dtype: float64"
      ]
     },
     "metadata": {},
     "output_type": "display_data"
    },
    {
     "data": {
      "image/png": "[encoded data removed]",
      "text/plain": [
       "<Figure size 432x288 with 1 Axes>"
      ]
     },
     "metadata": {
      "needs_background": "light"
     },
     "output_type": "display_data"
    }
   ],
   "source": [
    "sum_attendance(matches_clean_df, 'Attendance')"
   ]
  },
  {
   "cell_type": "markdown",
   "id": "cc2bae04",
   "metadata": {
    "hidden": true
   },
   "source": [
    "A higher number of people watched the first world cup compared to the next two subsequent tournaments. Also, there is a significant drop around 1998 and 2002."
   ]
  },
  {
   "cell_type": "markdown",
   "id": "883e51dc",
   "metadata": {
    "heading_collapsed": true,
    "hidden": true
   },
   "source": [
    "### Q4: Which country has hosted the World Cup the most?"
   ]
  },
  {
   "cell_type": "code",
   "execution_count": 45,
   "id": "6a969d9c",
   "metadata": {
    "hidden": true,
    "scrolled": false
   },
   "outputs": [
    {
     "data": {
      "text/plain": [
       "Brazil     2\n",
       "Germany    2\n",
       "Italy      2\n",
       "Name: Host Country, dtype: int64"
      ]
     },
     "metadata": {},
     "output_type": "display_data"
    },
    {
     "data": {
      "image/png": "[encoded data removed]",
      "text/plain": [
       "<Figure size 432x288 with 1 Axes>"
      ]
     },
     "metadata": {
      "needs_background": "light"
     },
     "output_type": "display_data"
    }
   ],
   "source": [
    "host = world_clean_df['Host Country'].value_counts()\n",
    "display(host.head(3))\n",
    "sns.barplot(host, host.index, color=base_color)\n",
    "plt.xticks([1, 2])\n",
    "plt.xlabel('')\n",
    "plt.title('Number of time each country has hosted the World Cup');"
   ]
  },
  {
   "cell_type": "markdown",
   "id": "6e038eaf",
   "metadata": {
    "hidden": true
   },
   "source": [
    "Each of France, Brazil, Germany, Mexico and Italy have hosted the World Cup twice while Korea and Japan both jointly hosted the tournament once. The rest of the countries hosted once"
   ]
  },
  {
   "cell_type": "markdown",
   "id": "5e41e20a",
   "metadata": {
    "heading_collapsed": true,
    "hidden": true
   },
   "source": [
    "### Q5: What is the frequency of match played per month?"
   ]
  },
  {
   "cell_type": "code",
   "execution_count": 46,
   "id": "7c549be2",
   "metadata": {
    "hidden": true
   },
   "outputs": [
    {
     "data": {
      "image/png": "[encoded data removed]",
      "text/plain": [
       "<Figure size 432x288 with 1 Axes>"
      ]
     },
     "metadata": {
      "needs_background": "light"
     },
     "output_type": "display_data"
    }
   ],
   "source": [
    "sns.countplot(data=matches_clean_df, x='Month', color=base_color)\n",
    "plt.title('Frequency of Matches Played Per Month');"
   ]
  },
  {
   "cell_type": "markdown",
   "id": "50714e68",
   "metadata": {
    "hidden": true
   },
   "source": [
    "Majority of World Cup matches is played in the month of June"
   ]
  },
  {
   "cell_type": "markdown",
   "id": "d826c95e",
   "metadata": {
    "heading_collapsed": true,
    "hidden": true
   },
   "source": [
    "### Q6: Which player has the highest number of match played?"
   ]
  },
  {
   "cell_type": "code",
   "execution_count": 47,
   "id": "dc9a6bc3",
   "metadata": {
    "hidden": true,
    "scrolled": true
   },
   "outputs": [
    {
     "data": {
      "text/plain": [
       "27"
      ]
     },
     "execution_count": 47,
     "metadata": {},
     "output_type": "execute_result"
    }
   ],
   "source": [
    "sum(players_df.duplicated(['MatchID', 'Player Name']))"
   ]
  },
  {
   "cell_type": "code",
   "execution_count": 48,
   "id": "08688b7b",
   "metadata": {
    "hidden": true
   },
   "outputs": [
    {
     "data": {
      "text/plain": [
       "Player Name\n",
       "RONALDO    33\n",
       "KLOSE      28\n",
       "CAFU       26\n",
       "LEAO       25\n",
       "DIDA       25\n",
       "Name: RoundID, dtype: int64"
      ]
     },
     "metadata": {},
     "output_type": "display_data"
    },
    {
     "data": {
      "image/png": "[encoded data removed]",
      "text/plain": [
       "<Figure size 432x288 with 1 Axes>"
      ]
     },
     "metadata": {
      "needs_background": "light"
     },
     "output_type": "display_data"
    }
   ],
   "source": [
    "player_match = (players_df\n",
    "                .groupby(['Player Name'])\n",
    "                .count()['RoundID']\n",
    "                .sort_values(ascending=False)\n",
    "                .head()\n",
    "               )\n",
    "display(player_match)\n",
    "sns.barplot(player_match.index, player_match, color=base_color);"
   ]
  },
  {
   "cell_type": "markdown",
   "id": "825e0e9f",
   "metadata": {
    "hidden": true
   },
   "source": [
    "RONALDO has the highest number of World Cup matches played having played a total of 33 matches"
   ]
  },
  {
   "cell_type": "markdown",
   "id": "03d576ee",
   "metadata": {
    "heading_collapsed": true,
    "hidden": true
   },
   "source": [
    "### Q7: Which coach holds the record for most games managed?"
   ]
  },
  {
   "cell_type": "code",
   "execution_count": 49,
   "id": "2936aafa",
   "metadata": {
    "hidden": true
   },
   "outputs": [],
   "source": [
    "# drop duplicated matches\n",
    "df = players_df.drop_duplicates(['MatchID', 'Team Initials'])"
   ]
  },
  {
   "cell_type": "code",
   "execution_count": 50,
   "id": "7072b27e",
   "metadata": {
    "hidden": true
   },
   "outputs": [
    {
     "data": {
      "text/plain": [
       "SCHOEN Helmut (FRG)              25\n",
       "PARREIRA Carlos Alberto (BRA)    23\n",
       "SCOLARI Luiz Felipe (BRA)        21\n",
       "ZAGALLO Mario (BRA)              20\n",
       "MILUTINOVIC Bora (YUG)           20\n",
       "Name: Coach Name, dtype: int64"
      ]
     },
     "metadata": {},
     "output_type": "display_data"
    },
    {
     "data": {
      "image/png": "[encoded data removed]",
      "text/plain": [
       "<Figure size 432x288 with 1 Axes>"
      ]
     },
     "metadata": {
      "needs_background": "light"
     },
     "output_type": "display_data"
    }
   ],
   "source": [
    "coach = df['Coach Name'].value_counts().head(5)\n",
    "display(coach) \n",
    "sns.barplot(coach, coach.index, color=base_color);\n",
    "plt.xlabel('Number of matches managed')\n",
    "plt.title('Coach with most games managed');"
   ]
  },
  {
   "cell_type": "markdown",
   "id": "1e4fda86",
   "metadata": {
    "hidden": true
   },
   "source": [
    "SCHOEN Helmut, West Germany Coach, holds the record for most World Cup games managed"
   ]
  },
  {
   "cell_type": "markdown",
   "id": "fa0d2c1a",
   "metadata": {
    "hidden": true
   },
   "source": [
    "<a id='bivariate'></a>"
   ]
  },
  {
   "cell_type": "markdown",
   "id": "7733cb43",
   "metadata": {
    "heading_collapsed": true
   },
   "source": [
    "## 6. Bivariate Exploration"
   ]
  },
  {
   "cell_type": "markdown",
   "id": "3d2855c9",
   "metadata": {
    "heading_collapsed": true,
    "hidden": true
   },
   "source": [
    "### Q7: In which month is the World Cup Final played most?"
   ]
  },
  {
   "cell_type": "code",
   "execution_count": 51,
   "id": "91601019",
   "metadata": {
    "hidden": true,
    "scrolled": false
   },
   "outputs": [
    {
     "data": {
      "image/png": "[encoded data removed]",
      "text/plain": [
       "<Figure size 432x288 with 1 Axes>"
      ]
     },
     "metadata": {
      "needs_background": "light"
     },
     "output_type": "display_data"
    }
   ],
   "source": [
    "final_matches = matches_clean_df.loc[matches_clean_df['Stage'] == 'Final']\n",
    "sns.countplot(data=final_matches, x='Month', color=base_color)\n",
    "plt.ylabel('Frequency')\n",
    "plt.title('Months Associated with World Cup Final');"
   ]
  },
  {
   "cell_type": "markdown",
   "id": "ae5c9b0f",
   "metadata": {
    "hidden": true
   },
   "source": [
    "While majority of World Cup matches are played in June, majority of finals are played in the month of July."
   ]
  },
  {
   "cell_type": "markdown",
   "id": "108fa3b1",
   "metadata": {
    "heading_collapsed": true,
    "hidden": true
   },
   "source": [
    "### Q8: What effect does a home country's continent have on the attendance of spectators?"
   ]
  },
  {
   "cell_type": "code",
   "execution_count": 52,
   "id": "32faf93f",
   "metadata": {
    "hidden": true,
    "scrolled": true
   },
   "outputs": [
    {
     "data": {
      "image/png": "[encoded data removed]",
      "text/plain": [
       "<Figure size 576x288 with 1 Axes>"
      ]
     },
     "metadata": {
      "needs_background": "light"
     },
     "output_type": "display_data"
    }
   ],
   "source": [
    "plt.figure(figsize=(8, 4))\n",
    "sns.stripplot(data=matches_clean_df, x='Home Team Continent', y='Attendance', color=base_color, jitter=0.35)\n",
    "plt.xticks(rotation=15);"
   ]
  },
  {
   "cell_type": "code",
   "execution_count": 53,
   "id": "fe6abb78",
   "metadata": {
    "hidden": true,
    "scrolled": false
   },
   "outputs": [
    {
     "data": {
      "text/plain": [
       "<matplotlib.axes._subplots.AxesSubplot at 0x20f4c36a388>"
      ]
     },
     "execution_count": 53,
     "metadata": {},
     "output_type": "execute_result"
    },
    {
     "data": {
      "image/png": "[encoded data removed]",
      "text/plain": [
       "<Figure size 576x288 with 1 Axes>"
      ]
     },
     "metadata": {
      "needs_background": "light"
     },
     "output_type": "display_data"
    }
   ],
   "source": [
    "plt.figure(figsize=(8, 4))\n",
    "sns.violinplot(data=matches_clean_df, x='Home Team Continent', y='Attendance', color=base_color, inner=None)\n",
    "plt.xticks(rotation=15);"
   ]
  },
  {
   "cell_type": "code",
   "execution_count": 54,
   "id": "796dc571",
   "metadata": {
    "hidden": true,
    "scrolled": true
   },
   "outputs": [
    {
     "data": {
      "image/png": "[encoded data removed]",
      "text/plain": [
       "<Figure size 576x288 with 1 Axes>"
      ]
     },
     "metadata": {
      "needs_background": "light"
     },
     "output_type": "display_data"
    }
   ],
   "source": [
    "plt.figure(figsize=(8, 4))\n",
    "sns.boxplot(data=matches_clean_df, x='Home Team Continent', y='Attendance', color=base_color)\n",
    "plt.xticks(rotation=15);"
   ]
  },
  {
   "cell_type": "markdown",
   "id": "7caee22d",
   "metadata": {
    "hidden": true
   },
   "source": [
    "Countries in South America seem to have better spectator turn out "
   ]
  },
  {
   "cell_type": "markdown",
   "id": "a2c261b4",
   "metadata": {
    "hidden": true
   },
   "source": [
    "<a id='multivariate'></a>"
   ]
  },
  {
   "cell_type": "markdown",
   "id": "5b7f13de",
   "metadata": {
    "heading_collapsed": true
   },
   "source": [
    "## 7. Multivariate Exploration"
   ]
  },
  {
   "cell_type": "markdown",
   "id": "959732dc",
   "metadata": {
    "heading_collapsed": true,
    "hidden": true
   },
   "source": [
    "### Q9: What is the highest goal scored in a single match by a home team?"
   ]
  },
  {
   "cell_type": "code",
   "execution_count": 55,
   "id": "f3fc1b0e",
   "metadata": {
    "hidden": true
   },
   "outputs": [
    {
     "data": {
      "text/html": [
       "<div>\n",
       "<style scoped>\n",
       "    .dataframe tbody tr th:only-of-type {\n",
       "        vertical-align: middle;\n",
       "    }\n",
       "\n",
       "    .dataframe tbody tr th {\n",
       "        vertical-align: top;\n",
       "    }\n",
       "\n",
       "    .dataframe thead th {\n",
       "        text-align: right;\n",
       "    }\n",
       "</style>\n",
       "<table border=\"1\" class=\"dataframe\">\n",
       "  <thead>\n",
       "    <tr style=\"text-align: right;\">\n",
       "      <th></th>\n",
       "      <th>Home Team Name</th>\n",
       "      <th>Home Team Goals</th>\n",
       "      <th>Home Team Continent</th>\n",
       "    </tr>\n",
       "  </thead>\n",
       "  <tbody>\n",
       "    <tr>\n",
       "      <th>431</th>\n",
       "      <td>Hungary</td>\n",
       "      <td>10</td>\n",
       "      <td>Europe</td>\n",
       "    </tr>\n",
       "    <tr>\n",
       "      <th>778</th>\n",
       "      <td>Yugoslavia</td>\n",
       "      <td>9</td>\n",
       "      <td>Europe</td>\n",
       "    </tr>\n",
       "    <tr>\n",
       "      <th>733</th>\n",
       "      <td>Hungary</td>\n",
       "      <td>9</td>\n",
       "      <td>Europe</td>\n",
       "    </tr>\n",
       "  </tbody>\n",
       "</table>\n",
       "</div>"
      ],
      "text/plain": [
       "    Home Team Name  Home Team Goals Home Team Continent\n",
       "431        Hungary               10              Europe\n",
       "778     Yugoslavia                9              Europe\n",
       "733        Hungary                9              Europe"
      ]
     },
     "metadata": {},
     "output_type": "display_data"
    },
    {
     "data": {
      "image/png": "[encoded data removed]",
      "text/plain": [
       "<Figure size 648x432 with 1 Axes>"
      ]
     },
     "metadata": {
      "needs_background": "light"
     },
     "output_type": "display_data"
    }
   ],
   "source": [
    "home_team_goals = (matches_clean_df\n",
    "                   .sort_values(by='Home Team Goals', ascending=False)\n",
    "                   [['Home Team Name', 'Home Team Goals', 'Home Team Continent']].head(10)\n",
    "                  )\n",
    "display(home_team_goals.head(3))\n",
    "plt.figure(figsize=(9,6))\n",
    "sns.barplot(data=home_team_goals, y='Home Team Name', x='Home Team Goals', hue='Home Team Continent')\n",
    "plt.title('Highest Goal Scored in a single match by Home Team');"
   ]
  },
  {
   "cell_type": "markdown",
   "id": "05408085",
   "metadata": {
    "hidden": true
   },
   "source": [
    "Hungary has the highest number of home goals in a single match. Also, Europian countries dominated the top 10 list with only Uruguay from South America being an exception."
   ]
  },
  {
   "cell_type": "markdown",
   "id": "4193eb2a",
   "metadata": {
    "heading_collapsed": true,
    "hidden": true
   },
   "source": [
    "### Q10: What is the highest goal scored in a single match by a away team?"
   ]
  },
  {
   "cell_type": "code",
   "execution_count": 56,
   "id": "6bf917fa",
   "metadata": {
    "hidden": true,
    "scrolled": false
   },
   "outputs": [
    {
     "data": {
      "text/html": [
       "<div>\n",
       "<style scoped>\n",
       "    .dataframe tbody tr th:only-of-type {\n",
       "        vertical-align: middle;\n",
       "    }\n",
       "\n",
       "    .dataframe tbody tr th {\n",
       "        vertical-align: top;\n",
       "    }\n",
       "\n",
       "    .dataframe thead th {\n",
       "        text-align: right;\n",
       "    }\n",
       "</style>\n",
       "<table border=\"1\" class=\"dataframe\">\n",
       "  <thead>\n",
       "    <tr style=\"text-align: right;\">\n",
       "      <th></th>\n",
       "      <th>Away Team Name</th>\n",
       "      <th>Away Team Goals</th>\n",
       "      <th>Away Team Continent</th>\n",
       "    </tr>\n",
       "  </thead>\n",
       "  <tbody>\n",
       "    <tr>\n",
       "      <th>221</th>\n",
       "      <td>Germany</td>\n",
       "      <td>7</td>\n",
       "      <td>Europe</td>\n",
       "    </tr>\n",
       "    <tr>\n",
       "      <th>306</th>\n",
       "      <td>Poland</td>\n",
       "      <td>7</td>\n",
       "      <td>Europe</td>\n",
       "    </tr>\n",
       "    <tr>\n",
       "      <th>349</th>\n",
       "      <td>Spain</td>\n",
       "      <td>5</td>\n",
       "      <td>Europe</td>\n",
       "    </tr>\n",
       "  </tbody>\n",
       "</table>\n",
       "</div>"
      ],
      "text/plain": [
       "    Away Team Name  Away Team Goals Away Team Continent\n",
       "221        Germany                7              Europe\n",
       "306         Poland                7              Europe\n",
       "349          Spain                5              Europe"
      ]
     },
     "metadata": {},
     "output_type": "display_data"
    },
    {
     "data": {
      "image/png": "[encoded data removed]",
      "text/plain": [
       "<Figure size 648x432 with 1 Axes>"
      ]
     },
     "metadata": {
      "needs_background": "light"
     },
     "output_type": "display_data"
    }
   ],
   "source": [
    "away_team_goals = (matches_clean_df\n",
    "                   .sort_values(by='Away Team Goals', ascending=False)\n",
    "                   [['Away Team Name', 'Away Team Goals', 'Away Team Continent']].head(10)\n",
    "                  )\n",
    "display(away_team_goals.head(3)) \n",
    "plt.figure(figsize=(9,6))\n",
    "sns.barplot(data=away_team_goals, y='Away Team Name', x='Away Team Goals', hue='Away Team Continent')\n",
    "plt.title('Highest Goal Scored in a single match by Away Team');"
   ]
  },
  {
   "cell_type": "markdown",
   "id": "2e1cbd3e",
   "metadata": {
    "hidden": true
   },
   "source": [
    "Germany has the highest number of away goals in a single match. Yet again, Europian countries dominated the top 10 list with only Brazil from South America being an exception."
   ]
  },
  {
   "cell_type": "markdown",
   "id": "2451e886",
   "metadata": {
    "heading_collapsed": true,
    "hidden": true
   },
   "source": [
    "### Q11: Which country has the highest number of World Cup trophy?"
   ]
  },
  {
   "cell_type": "code",
   "execution_count": 57,
   "id": "85a70e6c",
   "metadata": {
    "hidden": true,
    "scrolled": false
   },
   "outputs": [
    {
     "data": {
      "text/plain": [
       "Brazil        5\n",
       "Italy         4\n",
       "Germany FR    3\n",
       "Uruguay       2\n",
       "Argentina     2\n",
       "Name: Winner, dtype: int64"
      ]
     },
     "metadata": {},
     "output_type": "display_data"
    },
    {
     "data": {
      "image/png": "[encoded data removed]",
      "text/plain": [
       "<Figure size 432x288 with 1 Axes>"
      ]
     },
     "metadata": {
      "needs_background": "light"
     },
     "output_type": "display_data"
    }
   ],
   "source": [
    "winners = world_clean_df.Winner.value_counts()\n",
    "display(winners.head())\n",
    "sns.countplot(data=world_clean_df, y='Winner', hue = 'Winner Continent', order=winners.index)\n",
    "plt.title('Country with most World Cup titles');"
   ]
  },
  {
   "cell_type": "markdown",
   "id": "45893130",
   "metadata": {
    "hidden": true
   },
   "source": [
    "South America country Brazil has the highest number of World Cup trophy; 5 in their cabinet!"
   ]
  },
  {
   "cell_type": "markdown",
   "id": "b223157e",
   "metadata": {
    "heading_collapsed": true,
    "hidden": true
   },
   "source": [
    "### Q12: How does the attendance vary over the past finals? "
   ]
  },
  {
   "cell_type": "code",
   "execution_count": 61,
   "id": "0d35c581",
   "metadata": {
    "hidden": true,
    "scrolled": false
   },
   "outputs": [
    {
     "data": {
      "text/plain": [
       "Year\n",
       "1930     68346\n",
       "1934     55000\n",
       "1938     45000\n",
       "1950    173850\n",
       "1954     62500\n",
       "Name: Attendance, dtype: int64"
      ]
     },
     "metadata": {},
     "output_type": "display_data"
    },
    {
     "data": {
      "image/png": "[encoded data removed]",
      "text/plain": [
       "<Figure size 432x288 with 1 Axes>"
      ]
     },
     "metadata": {
      "needs_background": "light"
     },
     "output_type": "display_data"
    }
   ],
   "source": [
    "sum_attendance(world_clean_df, 'Final Match Attendance')"
   ]
  },
  {
   "cell_type": "markdown",
   "id": "12dd7c69",
   "metadata": {
    "hidden": true
   },
   "source": [
    "The 1950 final between Brazil and Uruguay remains the most attended match in World Cup history with 173850 spectators. Another observation is since the curios drop around 1954 to 1960, the number of spectators never reach 100,000. The most recent, 2014, being slightly over 74,000."
   ]
  },
  {
   "cell_type": "markdown",
   "id": "73d2712b",
   "metadata": {
    "hidden": true
   },
   "source": [
    "<a id='conclusion'></a>"
   ]
  },
  {
   "cell_type": "markdown",
   "id": "67d4392e",
   "metadata": {
    "heading_collapsed": true
   },
   "source": [
    "## 8. Conclusion"
   ]
  },
  {
   "cell_type": "markdown",
   "id": "7e872ed1",
   "metadata": {
    "hidden": true
   },
   "source": [
    "### 8.1 About the Datasets"
   ]
  },
  {
   "cell_type": "markdown",
   "id": "506a2bd3",
   "metadata": {
    "hidden": true
   },
   "source": [
    "> In 'world_clean_df', some data entries are missing. For example, record for 1950 final is not in the dataset. This however is the one I could spot when performing exploratory data analysis. There is no guarantee that more data might not be missing. Furthermore, it is worth mentioning that generally, the three datasets are not 100% cleaned. \n",
    ">\n",
    "> Since some of my analysis revolves round continent, new columns corresponding to continent are added for every country column"
   ]
  },
  {
   "cell_type": "markdown",
   "id": "9c2ecb36",
   "metadata": {
    "hidden": true
   },
   "source": [
    "### 8.2 Summary of Findings"
   ]
  },
  {
   "cell_type": "markdown",
   "id": "589043d7",
   "metadata": {
    "hidden": true
   },
   "source": [
    "From the result of my analysis and visualizations, I was able to answer some questions about the datasets. Few of these include:  \n",
    ">- About 83 countries have participated in the World Cup. Please note that this finding follows the dataset and does not count countries that have now merged as 'one' or split as 'two'. \n",
    ">- The 1950 World Cup hosted by Brazil has the highest total number of attendance; over a million!\n",
    ">- RONALDO has the highest number of match played.\n",
    ">- While most World Cup games are played in the month of June, majority of finals are played in the month of July and never beyond! This means the tournament does not take up to three months.\n",
    ">- A higher percentage of participants are European Countries. \n",
    ">- Brazil has the highest number of World Cup titles."
   ]
  }
 ],
 "metadata": {
  "kernelspec": {
   "display_name": "Python [conda env:root] *",
   "language": "python",
   "name": "conda-root-py"
  },
  "language_info": {
   "codemirror_mode": {
    "name": "ipython",
    "version": 3
   },
   "file_extension": ".py",
   "mimetype": "text/x-python",
   "name": "python",
   "nbconvert_exporter": "python",
   "pygments_lexer": "ipython3",
   "version": "3.7.6"
  }
 },
 "nbformat": 4,
 "nbformat_minor": 5
}
